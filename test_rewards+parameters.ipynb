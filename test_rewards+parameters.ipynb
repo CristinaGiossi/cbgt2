{
 "cells": [
  {
   "cell_type": "code",
   "execution_count": 1,
   "metadata": {},
   "outputs": [],
   "source": [
    "#MAC USERS: \n",
    "#Before running ipynb - command line:\n",
    "#ray stop\n",
    "#ray start --head --port=6379 --redis-password=\"cbgt2\"\n",
    "#ray start --address='10.162.14.77:6379' --redis-password='cbgt2'\n",
    "%load_ext autoreload\n",
    "%autoreload 2\n",
    "%reload_ext autoreload \n",
    "#if it doesn't work, shut down the ray server and start it again"
   ]
  },
  {
   "cell_type": "code",
   "execution_count": 2,
   "metadata": {},
   "outputs": [],
   "source": [
    "#!autopep8 --in-place --aggressive --aggressive init_params.py\n",
    "#!autopep8 --in-place --aggressive --aggressive popconstruct_copy.py\n",
    "#!autopep8 --in-place --aggressive --aggressive generateepochs.py"
   ]
  },
  {
   "cell_type": "code",
   "execution_count": 3,
   "metadata": {},
   "outputs": [
    {
     "name": "stderr",
     "output_type": "stream",
     "text": [
      "2021-08-04 09:39:51,610\tINFO worker.py:726 -- Connecting to existing Ray cluster at address: 192.168.0.235:6379\n"
     ]
    }
   ],
   "source": [
    "import cbgt as cbgt\n",
    "from frontendhelpers import * \n",
    "from tracetype import *\n",
    "import init_params as par \n",
    "import popconstruct_copy as popconstruct\n",
    "import generateepochs as gen\n",
    "import pdb"
   ]
  },
  {
   "cell_type": "markdown",
   "metadata": {},
   "source": [
    "# Reward schedule"
   ]
  },
  {
   "cell_type": "code",
   "execution_count": 4,
   "metadata": {},
   "outputs": [],
   "source": [
    "def GenRewardSchedule(n_trials, volatility, conflict, reward_mu, reward_std):\n",
    "    \n",
    "    reward_t1, reward_t2 = gen.define_reward(conflict, n_trials, reward_mu, reward_std)\n",
    "    cp_idx, cp_indicator = gen.define_changepoints(n_trials, reward_t1, reward_t2, volatility)\n",
    "    t1_epochs, t2_epochs, noisy_pattern, volatile_pattern = gen.define_epochs(n_trials, reward_t1, reward_t2, cp_idx, conflict)\n",
    "    #print('t1:', reward_t1)\n",
    "    #print('t2:', reward_t2)\n",
    "    return volatile_pattern, cp_idx, cp_indicator, noisy_pattern, t1_epochs, t2_epochs"
   ]
  },
  {
   "cell_type": "code",
   "execution_count": 5,
   "metadata": {},
   "outputs": [],
   "source": [
    "rsg = cbgt.Pipeline() # rsg is short for 'reward schedule generator'\n",
    "\n",
    "\n",
    "(rsg.volatile_pattern,\n",
    " rsg.cp_idx,\n",
    " rsg.cp_indicator,\n",
    " rsg.noisy_pattern,\n",
    " rsg.t1_epochs,\n",
    " rsg.t2_epochs,\n",
    ") = rsg[GenRewardSchedule](\n",
    "        rsg.n_trials,\n",
    "        rsg.volatility,\n",
    "        rsg.conflict,\n",
    "        rsg.reward_mu,\n",
    "        rsg.reward_std,\n",
    "    ).shape(6)"
   ]
  },
  {
   "cell_type": "code",
   "execution_count": 6,
   "metadata": {},
   "outputs": [
    {
     "name": "stdout",
     "output_type": "stream",
     "text": [
      "\u001b[2m\u001b[36m(pid=1163)\u001b[0m t1: [0.85289709 0.         0.         1.01627861 0.99730769]\n",
      "\u001b[2m\u001b[36m(pid=1163)\u001b[0m t2: [0.         0.94675089 1.05500847 0.         0.        ]\n",
      "\u001b[2m\u001b[36m(pid=1163)\u001b[0m t1: [0.85289709 0.         0.         1.01627861 0.99730769]\n",
      "\u001b[2m\u001b[36m(pid=1163)\u001b[0m t2: [0.         0.94675089 1.05500847 0.         0.        ]\n"
     ]
    }
   ],
   "source": [
    "var_env = {\n",
    "    'n_trials': 5,\n",
    "    'volatility': 2,\n",
    "    'conflict': 0.7,\n",
    "    'reward_mu': 1,\n",
    "    'reward_std': 0.1,\n",
    "}\n",
    "results = cbgt.ExecutionManager(cores=7).run(rsg,var_env)\n",
    "locals().update(results)"
   ]
  },
  {
   "cell_type": "code",
   "execution_count": 7,
   "metadata": {},
   "outputs": [
    {
     "data": {
      "text/plain": [
       "dict_keys(['n_trials', 'volatility', 'conflict', 'reward_mu', 'reward_std', 'volatile_pattern', 'cp_idx', 'cp_indicator', 'noisy_pattern', 't1_epochs', 't2_epochs'])"
      ]
     },
     "execution_count": 7,
     "metadata": {},
     "output_type": "execute_result"
    }
   ],
   "source": [
    "results.keys()"
   ]
  },
  {
   "cell_type": "code",
   "execution_count": 8,
   "metadata": {},
   "outputs": [
    {
     "data": {
      "text/plain": [
       "array([0., 0., 1., 0., 1.])"
      ]
     },
     "execution_count": 8,
     "metadata": {},
     "output_type": "execute_result"
    }
   ],
   "source": [
    "results['volatile_pattern']"
   ]
  },
  {
   "cell_type": "code",
   "execution_count": 9,
   "metadata": {},
   "outputs": [
    {
     "data": {
      "text/plain": [
       "[0, 2, 3, 4]"
      ]
     },
     "execution_count": 9,
     "metadata": {},
     "output_type": "execute_result"
    }
   ],
   "source": [
    "results['cp_idx']"
   ]
  },
  {
   "cell_type": "code",
   "execution_count": 10,
   "metadata": {},
   "outputs": [
    {
     "data": {
      "text/plain": [
       "array([1., 0., 1., 1., 1.])"
      ]
     },
     "execution_count": 10,
     "metadata": {},
     "output_type": "execute_result"
    }
   ],
   "source": [
    "results['cp_indicator']"
   ]
  },
  {
   "cell_type": "code",
   "execution_count": 11,
   "metadata": {},
   "outputs": [
    {
     "data": {
      "text/plain": [
       "[1.0, 0.0, 1.0, 1.0, 0.0]"
      ]
     },
     "execution_count": 11,
     "metadata": {},
     "output_type": "execute_result"
    }
   ],
   "source": [
    "results['noisy_pattern']"
   ]
  },
  {
   "cell_type": "code",
   "execution_count": 12,
   "metadata": {},
   "outputs": [
    {
     "data": {
      "text/plain": [
       "array([0.85289709, 0.        , 1.05500847, 1.01627861, 0.        ])"
      ]
     },
     "execution_count": 12,
     "metadata": {},
     "output_type": "execute_result"
    }
   ],
   "source": [
    "results['t1_epochs']"
   ]
  },
  {
   "cell_type": "code",
   "execution_count": 13,
   "metadata": {},
   "outputs": [
    {
     "data": {
      "text/plain": [
       "array([0.        , 0.94675089, 0.        , 0.        , 0.99730769])"
      ]
     },
     "execution_count": 13,
     "metadata": {},
     "output_type": "execute_result"
    }
   ],
   "source": [
    "results['t2_epochs']"
   ]
  },
  {
   "cell_type": "code",
   "execution_count": null,
   "metadata": {},
   "outputs": [],
   "source": []
  },
  {
   "cell_type": "markdown",
   "metadata": {},
   "source": [
    "# Net parameters "
   ]
  },
  {
   "cell_type": "code",
   "execution_count": 14,
   "metadata": {},
   "outputs": [],
   "source": [
    "pl = cbgt.Pipeline()"
   ]
  },
  {
   "cell_type": "code",
   "execution_count": 15,
   "metadata": {},
   "outputs": [],
   "source": [
    "#DEFAULTS - init_params.py\n",
    "pl.celldefaults = pl[par.helper_cellparams]()\n",
    "pl.popspecific = pl[par.helper_popspecific]()\n",
    "pl.receptordefaults = pl[par.helper_receptor]()\n",
    "pl.basestim = pl[par.helper_basestim]()\n",
    "pl.dpmndefaults = pl[par.helper_dpmn]()\n",
    "pl.d1defaults = pl[par.helper_d1]()\n",
    "pl.d2defaults = pl[par.helper_d2]()\n",
    "pl.actionchannels = pl[par.helper_actionchannels]()\n",
    "pl.popdata = pl[popconstruct.helper_popconstruct](pl.actionchannels, pl.popspecific, pl.celldefaults, pl.receptordefaults, pl.basestim, pl.dpmndefaults, pl.d1defaults, pl.d2defaults)\n",
    "pl.pathways = pl[popconstruct.helper_poppathways](pl.popdata)"
   ]
  },
  {
   "cell_type": "code",
   "execution_count": 16,
   "metadata": {},
   "outputs": [],
   "source": [
    "#MODIFIERS - init_params.py \n",
    "\n",
    "def codeblock_modifycelldefaults(self):\n",
    "    self.celldefaults = par.helper_cellparams(self.params)\n",
    "    \n",
    "def codeblock_modifypopspecific(self):\n",
    "    self.popspecific = par.helper_popspecific(self.pops)\n",
    "    \n",
    "def codeblock_modifyreceptordefaults(self):\n",
    "    self.receptordefaults = par.helper_receptor(self.receps)\n",
    "\n",
    "def codeblock_modifybasestim(self):\n",
    "    self.basestim = par.helper_basestim(self.base)\n",
    "    \n",
    "def codeblock_modifydpmndefaults(self):\n",
    "    self.dpmndefaults = par.helper_dpmn(self.dpmns)\n",
    "    \n",
    "def codeblock_modifyd1defaults(self):\n",
    "    self.d1defaults = par.helper_d1(self.d1)\n",
    "    \n",
    "def codeblock_modifyd2defaults(self):\n",
    "    self.d2defaults = par.helper_d2(self.d2)\n",
    "\n",
    "def codeblock_modifyactionchannels(self): \n",
    "    self.actionchannels = par.helper_actionchannels(self.channels)\n",
    "    \n",
    "#POPDATA + PATHWAYS - popconstruct_copy.py\n",
    "\n",
    "def codeblock_popconstruct(self):\n",
    "    self.popdata = popconstruct.helper_popconstruct(self.actionchannels, self.popspecific, self.celldefaults, self.receptordefaults, self.basestim, self.dpmndefaults, self.d1defaults, self.d2defaults)\n",
    "    \n",
    "def codeblock_poppathways(self): \n",
    "    self.pathways = popconstruct.helper_poppathways(self.popdata, self.newpathways) \n",
    "\n",
    "#CONNECTIVITY GRIDS - popconstruct_copy.py\n",
    "\n",
    "def codeblock_connAMPA(self):\n",
    "    self.connectivity_AMPA, self.meaneff_AMPA = popconstruct.helper_connectivityAMPA(self.popdata, self.pathways)\n",
    "\n",
    "def codeblock_connGABA(self): \n",
    "    self.connectivity_GABA, self.meaneff_GABA = popconstruct.helper_connectivityGABA(self.popdata, self.pathways) \n",
    "\n",
    "def codeblock_connNMDA(self): \n",
    "    self.connectivity_NMDA, self.meaneff_NMDA = popconstruct.helper_connectivityNMDA(self.popdata, self.pathways) "
   ]
  },
  {
   "cell_type": "code",
   "execution_count": 17,
   "metadata": {},
   "outputs": [
    {
     "data": {
      "text/plain": [
       "<backend.Pipeline at 0x7fe15a93f160>"
      ]
     },
     "execution_count": 17,
     "metadata": {},
     "output_type": "execute_result"
    }
   ],
   "source": [
    "pl.add(codeblock_modifycelldefaults)\n",
    "pl.add(codeblock_modifypopspecific)\n",
    "pl.add(codeblock_modifyreceptordefaults)\n",
    "pl.add(codeblock_modifybasestim)\n",
    "pl.add(codeblock_modifydpmndefaults)\n",
    "pl.add(codeblock_modifyd1defaults)\n",
    "pl.add(codeblock_modifyd2defaults)\n",
    "pl.add(codeblock_modifyactionchannels)\n",
    "pl.add(codeblock_popconstruct)\n",
    "pl.add(codeblock_poppathways)\n",
    "pl.add(codeblock_connAMPA)\n",
    "pl.add(codeblock_connGABA)\n",
    "pl.add(codeblock_connNMDA)"
   ]
  },
  {
   "cell_type": "code",
   "execution_count": null,
   "metadata": {},
   "outputs": [],
   "source": []
  },
  {
   "cell_type": "code",
   "execution_count": 18,
   "metadata": {},
   "outputs": [],
   "source": [
    "#DEFAULT VALUES \n",
    "\n",
    "environment = {\n",
    "    'params': None, \n",
    "    'pops': None,\n",
    "    'receps' : None, \n",
    "    'base' : None,\n",
    "    'dpmns' : None,\n",
    "    'd1' : None,\n",
    "    'd2' : None,\n",
    "    'channels' : None,\n",
    "    'newpathways' : None\n",
    "}\n",
    "results = cbgt.ExecutionManager(cores=7).run(pl,environment) "
   ]
  },
  {
   "cell_type": "code",
   "execution_count": 19,
   "metadata": {},
   "outputs": [
    {
     "data": {
      "text/plain": [
       "dict_keys(['params', 'pops', 'receps', 'base', 'dpmns', 'd1', 'd2', 'channels', 'newpathways', 'celldefaults', 'popspecific', 'receptordefaults', 'basestim', 'dpmndefaults', 'd1defaults', 'd2defaults', 'actionchannels', 'popdata', 'pathways', 'connectivity_AMPA', 'meaneff_AMPA', 'connectivity_GABA', 'meaneff_GABA', 'connectivity_NMDA', 'meaneff_NMDA'])"
      ]
     },
     "execution_count": 19,
     "metadata": {},
     "output_type": "execute_result"
    }
   ],
   "source": [
    "results.keys()"
   ]
  },
  {
   "cell_type": "code",
   "execution_count": 20,
   "metadata": {},
   "outputs": [
    {
     "data": {
      "text/html": [
       "<div>\n",
       "<style scoped>\n",
       "    .dataframe tbody tr th:only-of-type {\n",
       "        vertical-align: middle;\n",
       "    }\n",
       "\n",
       "    .dataframe tbody tr th {\n",
       "        vertical-align: top;\n",
       "    }\n",
       "\n",
       "    .dataframe thead th {\n",
       "        text-align: right;\n",
       "    }\n",
       "</style>\n",
       "<table border=\"1\" class=\"dataframe\">\n",
       "  <thead>\n",
       "    <tr style=\"text-align: right;\">\n",
       "      <th></th>\n",
       "      <th>N</th>\n",
       "      <th>C</th>\n",
       "      <th>Taum</th>\n",
       "      <th>RestPot</th>\n",
       "      <th>ResetPot</th>\n",
       "      <th>Threshold</th>\n",
       "      <th>RestPot_ca</th>\n",
       "      <th>Alpha_ca</th>\n",
       "      <th>Tau_ca</th>\n",
       "      <th>Eff_ca</th>\n",
       "      <th>...</th>\n",
       "      <th>g_adr_max</th>\n",
       "      <th>Vadr_h</th>\n",
       "      <th>Vadr_s</th>\n",
       "      <th>ADRRevPot</th>\n",
       "      <th>g_k_max</th>\n",
       "      <th>Vk_h</th>\n",
       "      <th>Vk_s</th>\n",
       "      <th>tau_k_max</th>\n",
       "      <th>n_k</th>\n",
       "      <th>h</th>\n",
       "    </tr>\n",
       "  </thead>\n",
       "  <tbody>\n",
       "    <tr>\n",
       "      <th>0</th>\n",
       "      <td>75`</td>\n",
       "      <td>0.5`</td>\n",
       "      <td>20`</td>\n",
       "      <td>-70`</td>\n",
       "      <td>-55`</td>\n",
       "      <td>-50`</td>\n",
       "      <td>-85`</td>\n",
       "      <td>0.5`</td>\n",
       "      <td>80`</td>\n",
       "      <td>0.0`</td>\n",
       "      <td>...</td>\n",
       "      <td>0`</td>\n",
       "      <td>-100`</td>\n",
       "      <td>10`</td>\n",
       "      <td>-90`</td>\n",
       "      <td>0`</td>\n",
       "      <td>-34`</td>\n",
       "      <td>6.5`</td>\n",
       "      <td>8`</td>\n",
       "      <td>0`</td>\n",
       "      <td>1`</td>\n",
       "    </tr>\n",
       "  </tbody>\n",
       "</table>\n",
       "<p>1 rows × 25 columns</p>\n",
       "</div>"
      ],
      "text/plain": [
       "     N     C Taum RestPot ResetPot Threshold RestPot_ca Alpha_ca Tau_ca  \\\n",
       "0  75`  0.5`  20`    -70`     -55`      -50`       -85`     0.5`    80`   \n",
       "\n",
       "  Eff_ca  ... g_adr_max Vadr_h Vadr_s ADRRevPot g_k_max  Vk_h  Vk_s tau_k_max  \\\n",
       "0   0.0`  ...        0`  -100`    10`      -90`      0`  -34`  6.5`        8`   \n",
       "\n",
       "  n_k   h  \n",
       "0  0`  1`  \n",
       "\n",
       "[1 rows x 25 columns]"
      ]
     },
     "execution_count": 20,
     "metadata": {},
     "output_type": "execute_result"
    }
   ],
   "source": [
    "results['celldefaults']"
   ]
  },
  {
   "cell_type": "code",
   "execution_count": null,
   "metadata": {},
   "outputs": [],
   "source": []
  },
  {
   "cell_type": "code",
   "execution_count": 21,
   "metadata": {},
   "outputs": [],
   "source": [
    "#CHANGE VALUES - NOT ALL \n",
    "\n",
    "environment = {\n",
    "    'params': pd.DataFrame([[4, 1]], columns=['N', 'C']), \n",
    "    'pops': None,\n",
    "    'receps' : None, \n",
    "    'base' : None,\n",
    "    'dpmns' : None,\n",
    "    'd1' : None,\n",
    "    'd2' : None,\n",
    "    'channels' : pd.DataFrame([[4],[5]], columns=['action']),\n",
    "    'newpathways' : None\n",
    "}\n",
    "results = cbgt.ExecutionManager(cores=7).run(pl,environment) "
   ]
  },
  {
   "cell_type": "code",
   "execution_count": 22,
   "metadata": {},
   "outputs": [
    {
     "data": {
      "text/html": [
       "<div>\n",
       "<style scoped>\n",
       "    .dataframe tbody tr th:only-of-type {\n",
       "        vertical-align: middle;\n",
       "    }\n",
       "\n",
       "    .dataframe tbody tr th {\n",
       "        vertical-align: top;\n",
       "    }\n",
       "\n",
       "    .dataframe thead th {\n",
       "        text-align: right;\n",
       "    }\n",
       "</style>\n",
       "<table border=\"1\" class=\"dataframe\">\n",
       "  <thead>\n",
       "    <tr style=\"text-align: right;\">\n",
       "      <th></th>\n",
       "      <th>N</th>\n",
       "      <th>C</th>\n",
       "      <th>Taum</th>\n",
       "      <th>RestPot</th>\n",
       "      <th>ResetPot</th>\n",
       "      <th>Threshold</th>\n",
       "      <th>RestPot_ca</th>\n",
       "      <th>Alpha_ca</th>\n",
       "      <th>Tau_ca</th>\n",
       "      <th>Eff_ca</th>\n",
       "      <th>...</th>\n",
       "      <th>g_adr_max</th>\n",
       "      <th>Vadr_h</th>\n",
       "      <th>Vadr_s</th>\n",
       "      <th>ADRRevPot</th>\n",
       "      <th>g_k_max</th>\n",
       "      <th>Vk_h</th>\n",
       "      <th>Vk_s</th>\n",
       "      <th>tau_k_max</th>\n",
       "      <th>n_k</th>\n",
       "      <th>h</th>\n",
       "    </tr>\n",
       "  </thead>\n",
       "  <tbody>\n",
       "    <tr>\n",
       "      <th>0</th>\n",
       "      <td>4`</td>\n",
       "      <td>1`</td>\n",
       "      <td>20`</td>\n",
       "      <td>-70`</td>\n",
       "      <td>-55`</td>\n",
       "      <td>-50`</td>\n",
       "      <td>-85`</td>\n",
       "      <td>0.5`</td>\n",
       "      <td>80`</td>\n",
       "      <td>0.0`</td>\n",
       "      <td>...</td>\n",
       "      <td>0`</td>\n",
       "      <td>-100`</td>\n",
       "      <td>10`</td>\n",
       "      <td>-90`</td>\n",
       "      <td>0`</td>\n",
       "      <td>-34`</td>\n",
       "      <td>6.5`</td>\n",
       "      <td>8`</td>\n",
       "      <td>0`</td>\n",
       "      <td>1`</td>\n",
       "    </tr>\n",
       "  </tbody>\n",
       "</table>\n",
       "<p>1 rows × 25 columns</p>\n",
       "</div>"
      ],
      "text/plain": [
       "    N   C Taum RestPot ResetPot Threshold RestPot_ca Alpha_ca Tau_ca Eff_ca  \\\n",
       "0  4`  1`  20`    -70`     -55`      -50`       -85`     0.5`    80`   0.0`   \n",
       "\n",
       "   ... g_adr_max Vadr_h Vadr_s ADRRevPot g_k_max  Vk_h  Vk_s tau_k_max n_k   h  \n",
       "0  ...        0`  -100`    10`      -90`      0`  -34`  6.5`        8`  0`  1`  \n",
       "\n",
       "[1 rows x 25 columns]"
      ]
     },
     "execution_count": 22,
     "metadata": {},
     "output_type": "execute_result"
    }
   ],
   "source": [
    "results['celldefaults']"
   ]
  },
  {
   "cell_type": "code",
   "execution_count": null,
   "metadata": {},
   "outputs": [],
   "source": []
  },
  {
   "cell_type": "code",
   "execution_count": 23,
   "metadata": {},
   "outputs": [],
   "source": [
    "#CHANGE VALUES - ALL \n",
    "\n",
    "environment = {\n",
    "    'params': pd.DataFrame([[8, 1]], columns=['N', 'C']),\n",
    "    'pops' : {'FSI': {'Taum': [60]}}, \n",
    "    'receps' : pd.DataFrame([[100, 100]], columns=['Tau_AMPA', 'Tau_GABA']), \n",
    "    'base' : {'FSI': {'FreqExt_AMPA': [100]}}, \n",
    "    'dpmns' : pd.DataFrame([[400, 100]], columns=['dpmn_wmax', 'dpmn_tauDOP']),\n",
    "    'd1' : pd.DataFrame([[3, 50]], columns=['dpmn_type', 'dpmn_c']),\n",
    "    'd2' : pd.DataFrame([[3, 50]], columns=['dpmn_type', 'dpmn_c']),\n",
    "    'channels' : pd.DataFrame([[8],[9]], columns=['action']),\n",
    "    'newpathways' : pd.DataFrame([['LIP', 'D1STR', 'AMPA', 'syn', 700, 0.027]], columns=['src', 'dest', 'receptor', 'type', 'con', 'eff'])\n",
    "}\n",
    "results = cbgt.ExecutionManager(cores=7).run(pl,environment) "
   ]
  },
  {
   "cell_type": "code",
   "execution_count": 24,
   "metadata": {},
   "outputs": [
    {
     "data": {
      "text/html": [
       "<div>\n",
       "<style scoped>\n",
       "    .dataframe tbody tr th:only-of-type {\n",
       "        vertical-align: middle;\n",
       "    }\n",
       "\n",
       "    .dataframe tbody tr th {\n",
       "        vertical-align: top;\n",
       "    }\n",
       "\n",
       "    .dataframe thead th {\n",
       "        text-align: right;\n",
       "    }\n",
       "</style>\n",
       "<table border=\"1\" class=\"dataframe\">\n",
       "  <thead>\n",
       "    <tr style=\"text-align: right;\">\n",
       "      <th></th>\n",
       "      <th>N</th>\n",
       "      <th>C</th>\n",
       "      <th>Taum</th>\n",
       "      <th>RestPot</th>\n",
       "      <th>ResetPot</th>\n",
       "      <th>Threshold</th>\n",
       "      <th>RestPot_ca</th>\n",
       "      <th>Alpha_ca</th>\n",
       "      <th>Tau_ca</th>\n",
       "      <th>Eff_ca</th>\n",
       "      <th>...</th>\n",
       "      <th>g_adr_max</th>\n",
       "      <th>Vadr_h</th>\n",
       "      <th>Vadr_s</th>\n",
       "      <th>ADRRevPot</th>\n",
       "      <th>g_k_max</th>\n",
       "      <th>Vk_h</th>\n",
       "      <th>Vk_s</th>\n",
       "      <th>tau_k_max</th>\n",
       "      <th>n_k</th>\n",
       "      <th>h</th>\n",
       "    </tr>\n",
       "  </thead>\n",
       "  <tbody>\n",
       "    <tr>\n",
       "      <th>0</th>\n",
       "      <td>8`</td>\n",
       "      <td>1`</td>\n",
       "      <td>20`</td>\n",
       "      <td>-70`</td>\n",
       "      <td>-55`</td>\n",
       "      <td>-50`</td>\n",
       "      <td>-85`</td>\n",
       "      <td>0.5`</td>\n",
       "      <td>80`</td>\n",
       "      <td>0.0`</td>\n",
       "      <td>...</td>\n",
       "      <td>0`</td>\n",
       "      <td>-100`</td>\n",
       "      <td>10`</td>\n",
       "      <td>-90`</td>\n",
       "      <td>0`</td>\n",
       "      <td>-34`</td>\n",
       "      <td>6.5`</td>\n",
       "      <td>8`</td>\n",
       "      <td>0`</td>\n",
       "      <td>1`</td>\n",
       "    </tr>\n",
       "  </tbody>\n",
       "</table>\n",
       "<p>1 rows × 25 columns</p>\n",
       "</div>"
      ],
      "text/plain": [
       "    N   C Taum RestPot ResetPot Threshold RestPot_ca Alpha_ca Tau_ca Eff_ca  \\\n",
       "0  8`  1`  20`    -70`     -55`      -50`       -85`     0.5`    80`   0.0`   \n",
       "\n",
       "   ... g_adr_max Vadr_h Vadr_s ADRRevPot g_k_max  Vk_h  Vk_s tau_k_max n_k   h  \n",
       "0  ...        0`  -100`    10`      -90`      0`  -34`  6.5`        8`  0`  1`  \n",
       "\n",
       "[1 rows x 25 columns]"
      ]
     },
     "execution_count": 24,
     "metadata": {},
     "output_type": "execute_result"
    }
   ],
   "source": [
    "results['celldefaults']"
   ]
  },
  {
   "cell_type": "code",
   "execution_count": null,
   "metadata": {},
   "outputs": [],
   "source": []
  },
  {
   "cell_type": "code",
   "execution_count": 25,
   "metadata": {},
   "outputs": [],
   "source": [
    "#BACK TO DEFAULT VALUES\n",
    "\n",
    "environment = {\n",
    "    'params': None, \n",
    "    'pops': None,\n",
    "    'receps' : None, \n",
    "    'base' : None,\n",
    "    'dpmns' : None,\n",
    "    'd1' : None,\n",
    "    'd2' : None,\n",
    "    'channels' : None,\n",
    "    'newpathways' : None\n",
    "}\n",
    "results = cbgt.ExecutionManager(cores=7).run(pl,environment) "
   ]
  },
  {
   "cell_type": "code",
   "execution_count": 26,
   "metadata": {},
   "outputs": [
    {
     "data": {
      "text/html": [
       "<div>\n",
       "<style scoped>\n",
       "    .dataframe tbody tr th:only-of-type {\n",
       "        vertical-align: middle;\n",
       "    }\n",
       "\n",
       "    .dataframe tbody tr th {\n",
       "        vertical-align: top;\n",
       "    }\n",
       "\n",
       "    .dataframe thead th {\n",
       "        text-align: right;\n",
       "    }\n",
       "</style>\n",
       "<table border=\"1\" class=\"dataframe\">\n",
       "  <thead>\n",
       "    <tr style=\"text-align: right;\">\n",
       "      <th></th>\n",
       "      <th>N</th>\n",
       "      <th>C</th>\n",
       "      <th>Taum</th>\n",
       "      <th>RestPot</th>\n",
       "      <th>ResetPot</th>\n",
       "      <th>Threshold</th>\n",
       "      <th>RestPot_ca</th>\n",
       "      <th>Alpha_ca</th>\n",
       "      <th>Tau_ca</th>\n",
       "      <th>Eff_ca</th>\n",
       "      <th>...</th>\n",
       "      <th>g_adr_max</th>\n",
       "      <th>Vadr_h</th>\n",
       "      <th>Vadr_s</th>\n",
       "      <th>ADRRevPot</th>\n",
       "      <th>g_k_max</th>\n",
       "      <th>Vk_h</th>\n",
       "      <th>Vk_s</th>\n",
       "      <th>tau_k_max</th>\n",
       "      <th>n_k</th>\n",
       "      <th>h</th>\n",
       "    </tr>\n",
       "  </thead>\n",
       "  <tbody>\n",
       "    <tr>\n",
       "      <th>0</th>\n",
       "      <td>75`</td>\n",
       "      <td>0.5`</td>\n",
       "      <td>20`</td>\n",
       "      <td>-70`</td>\n",
       "      <td>-55`</td>\n",
       "      <td>-50`</td>\n",
       "      <td>-85`</td>\n",
       "      <td>0.5`</td>\n",
       "      <td>80`</td>\n",
       "      <td>0.0`</td>\n",
       "      <td>...</td>\n",
       "      <td>0`</td>\n",
       "      <td>-100`</td>\n",
       "      <td>10`</td>\n",
       "      <td>-90`</td>\n",
       "      <td>0`</td>\n",
       "      <td>-34`</td>\n",
       "      <td>6.5`</td>\n",
       "      <td>8`</td>\n",
       "      <td>0`</td>\n",
       "      <td>1`</td>\n",
       "    </tr>\n",
       "  </tbody>\n",
       "</table>\n",
       "<p>1 rows × 25 columns</p>\n",
       "</div>"
      ],
      "text/plain": [
       "     N     C Taum RestPot ResetPot Threshold RestPot_ca Alpha_ca Tau_ca  \\\n",
       "0  75`  0.5`  20`    -70`     -55`      -50`       -85`     0.5`    80`   \n",
       "\n",
       "  Eff_ca  ... g_adr_max Vadr_h Vadr_s ADRRevPot g_k_max  Vk_h  Vk_s tau_k_max  \\\n",
       "0   0.0`  ...        0`  -100`    10`      -90`      0`  -34`  6.5`        8`   \n",
       "\n",
       "  n_k   h  \n",
       "0  0`  1`  \n",
       "\n",
       "[1 rows x 25 columns]"
      ]
     },
     "execution_count": 26,
     "metadata": {},
     "output_type": "execute_result"
    }
   ],
   "source": [
    "results['celldefaults']"
   ]
  },
  {
   "cell_type": "code",
   "execution_count": null,
   "metadata": {},
   "outputs": [],
   "source": []
  }
 ],
 "metadata": {
  "kernelspec": {
   "display_name": "Python 3",
   "language": "python",
   "name": "python3"
  },
  "language_info": {
   "codemirror_mode": {
    "name": "ipython",
    "version": 3
   },
   "file_extension": ".py",
   "mimetype": "text/x-python",
   "name": "python",
   "nbconvert_exporter": "python",
   "pygments_lexer": "ipython3",
   "version": "3.8.5"
  }
 },
 "nbformat": 4,
 "nbformat_minor": 4
}
