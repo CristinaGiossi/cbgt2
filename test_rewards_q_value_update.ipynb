{
 "cells": [
  {
   "cell_type": "code",
   "execution_count": null,
   "metadata": {},
   "outputs": [],
   "source": [
    "#MAC USERS: \n",
    "#Before running ipynb - command line:\n",
    "#ray stop\n",
    "#ray start --head --port=6379 --redis-password=\"cbgt2\"\n",
    "#ray start --address='10.162.14.77:6379' --redis-password='cbgt2'\n",
    "#%load_ext autoreload\n",
    "#%autoreload 2\n",
    "#%reload_ext autoreload \n",
    "#if it doesn't work, shut down the ray server and start it again"
   ]
  },
  {
   "cell_type": "code",
   "execution_count": null,
   "metadata": {},
   "outputs": [],
   "source": [
    "#!autopep8 --in-place --aggressive --aggressive init_params.py\n",
    "#!autopep8 --in-place --aggressive --aggressive popconstruct_copy.py\n",
    "#!autopep8 --in-place --aggressive --aggressive generateepochs.py"
   ]
  },
  {
   "cell_type": "code",
   "execution_count": 1,
   "metadata": {},
   "outputs": [
    {
     "name": "stderr",
     "output_type": "stream",
     "text": [
      "/home/bahuguna/anaconda3/envs/cbgt_env/lib/python3.6/site-packages/ray/autoscaler/_private/cli_logger.py:61: FutureWarning: Not all Ray CLI dependencies were found. In Ray 1.4+, the Ray CLI, autoscaler, and dashboard will only be usable via `pip install 'ray[default]'`. Please update your install command.\n",
      "  \"update your install command.\", FutureWarning)\n",
      "2021-08-13 10:09:11,216\tINFO worker.py:727 -- Connecting to existing Ray cluster at address: 10.226.209.114:6379\n"
     ]
    }
   ],
   "source": [
    "import cbgt as cbgt\n",
    "from frontendhelpers import * \n",
    "from tracetype import *\n",
    "import init_params as par \n",
    "import popconstruct_copy as popconstruct\n",
    "import generateepochs as gen\n",
    "import pdb"
   ]
  },
  {
   "cell_type": "markdown",
   "metadata": {},
   "source": [
    "# Reward schedule"
   ]
  },
  {
   "cell_type": "code",
   "execution_count": 2,
   "metadata": {},
   "outputs": [],
   "source": [
    "def GenRewardSchedule(n_trials, volatility, conflict, reward_mu, reward_std):\n",
    "    \n",
    "    reward_t1, reward_t2 = gen.define_reward(conflict, n_trials, reward_mu, reward_std)\n",
    "    cp_idx, cp_indicator = gen.define_changepoints(n_trials, reward_t1, reward_t2, volatility)\n",
    "    t1_epochs, t2_epochs, noisy_pattern, volatile_pattern = gen.define_epochs(n_trials, reward_t1, reward_t2, cp_idx, conflict)\n",
    "    return volatile_pattern, cp_idx, cp_indicator, noisy_pattern, t1_epochs, t2_epochs\n",
    "    "
   ]
  },
  {
   "cell_type": "code",
   "execution_count": 3,
   "metadata": {},
   "outputs": [],
   "source": [
    "rsg = cbgt.Pipeline() # rsg is short for 'reward schedule generator'\n",
    "\n",
    "\n",
    "(rsg.volatile_pattern,\n",
    " rsg.cp_idx,\n",
    " rsg.cp_indicator,\n",
    " rsg.noisy_pattern,\n",
    " rsg.t1_epochs,\n",
    " rsg.t2_epochs,\n",
    ") = rsg[GenRewardSchedule](\n",
    "        rsg.n_trials,\n",
    "        rsg.volatility,\n",
    "        rsg.conflict,\n",
    "        rsg.reward_mu,\n",
    "        rsg.reward_std,\n",
    "    ).shape(6)"
   ]
  },
  {
   "cell_type": "code",
   "execution_count": null,
   "metadata": {},
   "outputs": [],
   "source": []
  },
  {
   "cell_type": "code",
   "execution_count": 4,
   "metadata": {},
   "outputs": [
    {
     "data": {
      "text/plain": [
       "(array([0., 0., 1., 0., 1.]),\n",
       " [0, 2, 3, 4],\n",
       " array([1., 0., 1., 1., 1.]),\n",
       " [0.0, 1.0, 1.0, 1.0, 0.0],\n",
       " array([0.        , 0.9564879 , 1.09041642, 1.08438992, 0.        ]),\n",
       " array([1.06740757, 0.        , 0.        , 0.        , 0.98670123]))"
      ]
     },
     "execution_count": 4,
     "metadata": {},
     "output_type": "execute_result"
    }
   ],
   "source": [
    "GenRewardSchedule(5, 2, 0.7, 1, 0.1)"
   ]
  },
  {
   "cell_type": "code",
   "execution_count": null,
   "metadata": {},
   "outputs": [],
   "source": []
  },
  {
   "cell_type": "markdown",
   "metadata": {},
   "source": [
    "# Net parameters "
   ]
  },
  {
   "cell_type": "code",
   "execution_count": 5,
   "metadata": {},
   "outputs": [],
   "source": [
    "pl = cbgt.Pipeline()"
   ]
  },
  {
   "cell_type": "code",
   "execution_count": 6,
   "metadata": {},
   "outputs": [
    {
     "data": {
      "text/plain": [
       "<backend.Pipeline at 0x7f60304b36d8>"
      ]
     },
     "execution_count": 6,
     "metadata": {},
     "output_type": "execute_result"
    }
   ],
   "source": [
    "pl.add(rsg)"
   ]
  },
  {
   "cell_type": "code",
   "execution_count": 7,
   "metadata": {},
   "outputs": [],
   "source": [
    "pl.trial_num=0 # We need to figure out how to update this , maybe in a loop ?\n",
    "# chosen action from somewhere, depending on last trial\n",
    "pl.chosen_action = 2\n"
   ]
  },
  {
   "cell_type": "code",
   "execution_count": 8,
   "metadata": {},
   "outputs": [],
   "source": [
    "#MODIFIERS - init_params.py \n",
    "\n",
    "def codeblock_modifycelldefaults(self):\n",
    "    self.celldefaults = par.helper_cellparams(self.params)\n",
    "    \n",
    "def codeblock_modifypopspecific(self):\n",
    "    self.popspecific = par.helper_popspecific(self.pops)\n",
    "    \n",
    "def codeblock_modifyreceptordefaults(self):\n",
    "    self.receptordefaults = par.helper_receptor(self.receps)\n",
    "\n",
    "def codeblock_modifybasestim(self):\n",
    "    self.basestim = par.helper_basestim(self.base)\n",
    "    \n",
    "def codeblock_modifydpmndefaults(self):\n",
    "    self.dpmndefaults = par.helper_dpmn(self.dpmns)\n",
    "    \n",
    "def codeblock_modifyd1defaults(self):\n",
    "    self.d1defaults = par.helper_d1(self.d1)\n",
    "    \n",
    "def codeblock_modifyd2defaults(self):\n",
    "    self.d2defaults = par.helper_d2(self.d2)\n",
    "\n",
    "def codeblock_modifyactionchannels(self): \n",
    "    self.actionchannels = par.helper_actionchannels(self.channels)\n",
    "    \n",
    "#POPDATA + PATHWAYS - popconstruct_copy.py\n",
    "\n",
    "def codeblock_popconstruct(self):\n",
    "    self.popdata = popconstruct.helper_popconstruct(self.actionchannels, self.popspecific, self.celldefaults, self.receptordefaults, self.basestim, self.dpmndefaults, self.d1defaults, self.d2defaults)\n",
    "    \n",
    "def codeblock_poppathways(self): \n",
    "    self.pathways = popconstruct.helper_poppathways(self.popdata, self.newpathways) \n",
    "\n",
    "#CONNECTIVITY GRIDS - popconstruct_copy.py\n",
    "\n",
    "def codeblock_connAMPA(self):\n",
    "    self.connectivity_AMPA, self.meaneff_AMPA = popconstruct.helper_connectivityAMPA(self.popdata, self.pathways)\n",
    "\n",
    "def codeblock_connGABA(self): \n",
    "    self.connectivity_GABA, self.meaneff_GABA = popconstruct.helper_connectivityGABA(self.popdata, self.pathways) \n",
    "\n",
    "def codeblock_connNMDA(self): \n",
    "    self.connectivity_NMDA, self.meaneff_NMDA = popconstruct.helper_connectivityNMDA(self.popdata, self.pathways) \n",
    "\n",
    "def codeblock_get_reward_val(self):\n",
    "    self.reward_val = par.get_reward_value(rsg.t1_epochs,rsg.t2_epochs,pl.chosen_action,pl.trial_num)\n",
    "    \n",
    "    \n",
    "# Q VALUE DATAFRAME INIT AND UPDATE\n",
    "def codeblock_init_Q_support_params(self):\n",
    "    self.Q_support_params = par.helper_init_Q_support_params()\n",
    "\n",
    "def codeblock_update_Q_support_params(self,reward_val,chosen_action):\n",
    "    self.Q_support_params = par.helper_update_Q_support_params(self.Q_support_params,self.reward_val,pl.chosen_action)\n",
    "    \n",
    "def codeblock_init_Q_df(self):\n",
    "    self.Q_df = par.helper_init_Q_df(self.channels)\n",
    "    \n",
    "def codeblock_update_Q_df(self):\n",
    "    self.Q_df, self.Q_support_params, self.dpmndefaults = par.helper_update_Q_df(self.Q_df, self.Q_support_params, self.dpmndefaults,pl.trial_num)\n",
    "    \n"
   ]
  },
  {
   "cell_type": "code",
   "execution_count": 9,
   "metadata": {},
   "outputs": [
    {
     "data": {
      "text/plain": [
       "<backend.Pipeline at 0x7f60304b36d8>"
      ]
     },
     "execution_count": 9,
     "metadata": {},
     "output_type": "execute_result"
    }
   ],
   "source": [
    "#DEFAULTS - init_params.py\n",
    "pl.celldefaults = pl[par.helper_cellparams]()\n",
    "pl.popspecific = pl[par.helper_popspecific]()\n",
    "pl.receptordefaults = pl[par.helper_receptor]()\n",
    "pl.basestim = pl[par.helper_basestim]()\n",
    "pl.dpmndefaults = pl[par.helper_dpmn]()\n",
    "pl.d1defaults = pl[par.helper_d1]()\n",
    "pl.d2defaults = pl[par.helper_d2]()\n",
    "#pl.actionchannels = pl[par.helper_actionchannels]()\n",
    "pl.popdata = pl[popconstruct.helper_popconstruct](pl.actionchannels, pl.popspecific, pl.celldefaults, pl.receptordefaults, pl.basestim, pl.dpmndefaults, pl.d1defaults, pl.d2defaults)\n",
    "pl.pathways = pl[popconstruct.helper_poppathways](pl.popdata)\n",
    "\n",
    "# Initiating the q_value pipeline\n",
    "q_val_pipe = cbgt.Pipeline()\n",
    "q_val_pipe.Q_support_params = q_val_pipe[par.helper_init_Q_support_params]()\n",
    "rsg.reward_val = q_val_pipe[par.get_reward_value](rsg.t1_epochs,rsg.t2_epochs,pl.chosen_action,pl.trial_num) \n",
    "q_val_pipe.Q_support_params = q_val_pipe[par.helper_update_Q_support_params](q_val_pipe.Q_support_params,rsg.reward_val,pl.chosen_action)\n",
    "\n",
    "q_val_pipe.Q_df = q_val_pipe[par.helper_init_Q_df](pl.actionchannels)\n",
    "(q_val_pipe.Q_df, q_val_pipe.Q_support_params, pl.dpmndefaults) = q_val_pipe[par.helper_update_Q_df](q_val_pipe.Q_df,q_val_pipe.Q_support_params,pl.dpmndefaults,pl.trial_num).shape(3)\n",
    "\n",
    "\n",
    "# Adding the two pipelines to the main pipeline\n",
    "pl.add(q_val_pipe)\n",
    "\n"
   ]
  },
  {
   "cell_type": "code",
   "execution_count": 10,
   "metadata": {},
   "outputs": [
    {
     "data": {
      "text/plain": [
       "<backend.Pipeline at 0x7f60304b36d8>"
      ]
     },
     "execution_count": 10,
     "metadata": {},
     "output_type": "execute_result"
    }
   ],
   "source": [
    "pl.add(codeblock_modifycelldefaults)\n",
    "pl.add(codeblock_modifypopspecific)\n",
    "pl.add(codeblock_modifyreceptordefaults)\n",
    "pl.add(codeblock_modifybasestim)\n",
    "pl.add(codeblock_modifydpmndefaults)\n",
    "pl.add(codeblock_modifyd1defaults)\n",
    "pl.add(codeblock_modifyd2defaults)\n",
    "pl.add(codeblock_modifyactionchannels)\n",
    "pl.add(codeblock_popconstruct)\n",
    "pl.add(codeblock_poppathways)\n",
    "pl.add(codeblock_connAMPA)\n",
    "pl.add(codeblock_connGABA)\n",
    "pl.add(codeblock_connNMDA)"
   ]
  },
  {
   "cell_type": "code",
   "execution_count": null,
   "metadata": {},
   "outputs": [],
   "source": []
  },
  {
   "cell_type": "code",
   "execution_count": 11,
   "metadata": {},
   "outputs": [
    {
     "name": "stderr",
     "output_type": "stream",
     "text": [
      "\u001b[2m\u001b[33m(raylet)\u001b[0m /home/bahuguna/anaconda3/envs/cbgt_env/lib/python3.6/site-packages/ray/autoscaler/_private/cli_logger.py:61: FutureWarning: Not all Ray CLI dependencies were found. In Ray 1.4+, the Ray CLI, autoscaler, and dashboard will only be usable via `pip install 'ray[default]'`. Please update your install command.\n",
      "\u001b[2m\u001b[33m(raylet)\u001b[0m   \"update your install command.\", FutureWarning)\n"
     ]
    },
    {
     "name": "stdout",
     "output_type": "stream",
     "text": [
      "\u001b[2m\u001b[36m(pid=317570)\u001b[0m helper_init_Q_support_params\n",
      "\u001b[2m\u001b[36m(pid=317570)\u001b[0m   bayes_unif_min bayes_unif_max  ... reward_value chosen_action\n",
      "\u001b[2m\u001b[36m(pid=317570)\u001b[0m 0           0.0`           2.0`  ...        -1.0`            1`\n",
      "\u001b[2m\u001b[36m(pid=317570)\u001b[0m \n",
      "\u001b[2m\u001b[36m(pid=317570)\u001b[0m [1 rows x 8 columns]\n",
      "\u001b[2m\u001b[36m(pid=317570)\u001b[0m get_reward_value\n",
      "\u001b[2m\u001b[36m(pid=317570)\u001b[0m 0.0\n",
      "\u001b[2m\u001b[36m(pid=317570)\u001b[0m helper_update_Q_support_params\n",
      "\u001b[2m\u001b[36m(pid=317570)\u001b[0m    bayes_unif_min  bayes_unif_max  ...  reward_value  chosen_action\n",
      "\u001b[2m\u001b[36m(pid=317570)\u001b[0m 0             0.0             2.0  ...           0.0              2\n",
      "\u001b[2m\u001b[36m(pid=317570)\u001b[0m \n",
      "\u001b[2m\u001b[36m(pid=317570)\u001b[0m [1 rows x 8 columns]\n",
      "\u001b[2m\u001b[36m(pid=317570)\u001b[0m helper_init_Q_df\n",
      "\u001b[2m\u001b[36m(pid=317570)\u001b[0m num_actions 2\n",
      "\u001b[2m\u001b[36m(pid=317570)\u001b[0m Q_df Empty DataFrame\n",
      "\u001b[2m\u001b[36m(pid=317570)\u001b[0m Columns: [1, 2]\n",
      "\u001b[2m\u001b[36m(pid=317570)\u001b[0m Index: []\n",
      "\u001b[2m\u001b[36m(pid=317570)\u001b[0m Q_df      1    2\n",
      "\u001b[2m\u001b[36m(pid=317570)\u001b[0m 0  0.5  0.5\n",
      "\u001b[2m\u001b[36m(pid=317570)\u001b[0m In update_Q_df\n",
      "\u001b[2m\u001b[36m(pid=317570)\u001b[0m Q_support_params\n",
      "\u001b[2m\u001b[36m(pid=317570)\u001b[0m    bayes_unif_min  bayes_unif_max  ...  reward_value  chosen_action\n",
      "\u001b[2m\u001b[36m(pid=317570)\u001b[0m 0             0.0             2.0  ...           0.0              2\n",
      "\u001b[2m\u001b[36m(pid=317570)\u001b[0m \n",
      "\u001b[2m\u001b[36m(pid=317570)\u001b[0m [1 rows x 8 columns]\n",
      "\u001b[2m\u001b[36m(pid=317570)\u001b[0m Q_df\n",
      "\u001b[2m\u001b[36m(pid=317570)\u001b[0m      1    2\n",
      "\u001b[2m\u001b[36m(pid=317570)\u001b[0m 0  0.5  0.5\n",
      "\u001b[2m\u001b[36m(pid=317570)\u001b[0m trial_num 0\n",
      "\u001b[2m\u001b[36m(pid=317570)\u001b[0m ====================================================================\n",
      "\u001b[2m\u001b[36m(pid=317570)\u001b[0m Q_support_params\n",
      "\u001b[2m\u001b[36m(pid=317570)\u001b[0m    bayes_unif_min  bayes_unif_max  ...  reward_value  chosen_action\n",
      "\u001b[2m\u001b[36m(pid=317570)\u001b[0m 0             0.0             2.0  ...           0.0              2\n",
      "\u001b[2m\u001b[36m(pid=317570)\u001b[0m \n",
      "\u001b[2m\u001b[36m(pid=317570)\u001b[0m [1 rows x 8 columns]\n",
      "\u001b[2m\u001b[36m(pid=317570)\u001b[0m Q_df\n",
      "\u001b[2m\u001b[36m(pid=317570)\u001b[0m      1      2\n",
      "\u001b[2m\u001b[36m(pid=317570)\u001b[0m 0  0.5  0.500\n",
      "\u001b[2m\u001b[36m(pid=317570)\u001b[0m 0  0.5  0.275\n",
      "\u001b[2m\u001b[36m(pid=317570)\u001b[0m dpmndefaults\n",
      "\u001b[2m\u001b[36m(pid=317570)\u001b[0m   dpmn_tauDOP dpmn_alpha dpmn_DAt  ... dpmn_APOST dpmn_XPRE dpmn_XPOST\n",
      "\u001b[2m\u001b[36m(pid=317570)\u001b[0m 0          2`       0.3`     0.0`  ...       0.0`      0.0`       0.0`\n",
      "\u001b[2m\u001b[36m(pid=317570)\u001b[0m \n",
      "\u001b[2m\u001b[36m(pid=317570)\u001b[0m [1 rows x 20 columns]\n"
     ]
    }
   ],
   "source": [
    "#DEFAULT VALUES \n",
    "\n",
    "environment = {\n",
    "    'params': None, \n",
    "    'pops': None,\n",
    "    'receps' : None, \n",
    "    'base' : None,\n",
    "    'dpmns' : None,\n",
    "    'd1' : None,\n",
    "    'd2' : None,\n",
    "    'channels' : None,\n",
    "    'actionchannels' : pd.DataFrame([[1],[2]], columns=['action']),\n",
    "    'newpathways' : None,\n",
    "    'Q_support_params': None,\n",
    "    'Q_df':None,\n",
    "    'n_trials': 5,\n",
    "    'volatility': 2,\n",
    "    'conflict': 0.7,\n",
    "    'reward_mu': 1,\n",
    "    'reward_std': 0.1,\n",
    "    'chosen_action':1, #channel label\n",
    "    'trial_num': 1, # goes from 0 to number of trials\n",
    "    \n",
    "\n",
    "}\n",
    "results = cbgt.ExecutionManager(cores=7).run(pl,environment) "
   ]
  },
  {
   "cell_type": "code",
   "execution_count": 12,
   "metadata": {},
   "outputs": [
    {
     "data": {
      "text/plain": [
       "array([0.90500202, 0.        , 0.98997925, 0.        , 1.09670284])"
      ]
     },
     "execution_count": 12,
     "metadata": {},
     "output_type": "execute_result"
    }
   ],
   "source": [
    "results['t1_epochs']"
   ]
  },
  {
   "cell_type": "code",
   "execution_count": 13,
   "metadata": {},
   "outputs": [],
   "source": [
    "locals().update(results)"
   ]
  },
  {
   "cell_type": "code",
   "execution_count": 14,
   "metadata": {},
   "outputs": [
    {
     "data": {
      "text/html": [
       "<div>\n",
       "<style scoped>\n",
       "    .dataframe tbody tr th:only-of-type {\n",
       "        vertical-align: middle;\n",
       "    }\n",
       "\n",
       "    .dataframe tbody tr th {\n",
       "        vertical-align: top;\n",
       "    }\n",
       "\n",
       "    .dataframe thead th {\n",
       "        text-align: right;\n",
       "    }\n",
       "</style>\n",
       "<table border=\"1\" class=\"dataframe\">\n",
       "  <thead>\n",
       "    <tr style=\"text-align: right;\">\n",
       "      <th></th>\n",
       "      <th>1</th>\n",
       "      <th>2</th>\n",
       "    </tr>\n",
       "  </thead>\n",
       "  <tbody>\n",
       "    <tr>\n",
       "      <th>0</th>\n",
       "      <td>0.5</td>\n",
       "      <td>0.500</td>\n",
       "    </tr>\n",
       "    <tr>\n",
       "      <th>0</th>\n",
       "      <td>0.5</td>\n",
       "      <td>0.275</td>\n",
       "    </tr>\n",
       "  </tbody>\n",
       "</table>\n",
       "</div>"
      ],
      "text/plain": [
       "     1      2\n",
       "0  0.5  0.500\n",
       "0  0.5  0.275"
      ]
     },
     "execution_count": 14,
     "metadata": {},
     "output_type": "execute_result"
    }
   ],
   "source": [
    "results['Q_df']"
   ]
  },
  {
   "cell_type": "code",
   "execution_count": 15,
   "metadata": {},
   "outputs": [
    {
     "data": {
      "text/plain": [
       "array([0.90500202, 0.        , 0.98997925, 0.        , 1.09670284])"
      ]
     },
     "execution_count": 15,
     "metadata": {},
     "output_type": "execute_result"
    }
   ],
   "source": [
    "results['t1_epochs']"
   ]
  },
  {
   "cell_type": "code",
   "execution_count": 16,
   "metadata": {},
   "outputs": [
    {
     "data": {
      "text/html": [
       "<div>\n",
       "<style scoped>\n",
       "    .dataframe tbody tr th:only-of-type {\n",
       "        vertical-align: middle;\n",
       "    }\n",
       "\n",
       "    .dataframe tbody tr th {\n",
       "        vertical-align: top;\n",
       "    }\n",
       "\n",
       "    .dataframe thead th {\n",
       "        text-align: right;\n",
       "    }\n",
       "</style>\n",
       "<table border=\"1\" class=\"dataframe\">\n",
       "  <thead>\n",
       "    <tr style=\"text-align: right;\">\n",
       "      <th></th>\n",
       "      <th>dpmn_tauDOP</th>\n",
       "      <th>dpmn_alpha</th>\n",
       "      <th>dpmn_DAt</th>\n",
       "      <th>dpmn_taum</th>\n",
       "      <th>dpmn_dPRE</th>\n",
       "      <th>dpmn_dPOST</th>\n",
       "      <th>dpmn_tauE</th>\n",
       "      <th>dpmn_tauPRE</th>\n",
       "      <th>dpmn_tauPOST</th>\n",
       "      <th>dpmn_wmax</th>\n",
       "      <th>dpmn_w</th>\n",
       "      <th>dpmn_Q1</th>\n",
       "      <th>dpmn_Q2</th>\n",
       "      <th>dpmn_m</th>\n",
       "      <th>dpmn_E</th>\n",
       "      <th>dpmn_DAp</th>\n",
       "      <th>dpmn_APRE</th>\n",
       "      <th>dpmn_APOST</th>\n",
       "      <th>dpmn_XPRE</th>\n",
       "      <th>dpmn_XPOST</th>\n",
       "    </tr>\n",
       "  </thead>\n",
       "  <tbody>\n",
       "    <tr>\n",
       "      <th>0</th>\n",
       "      <td>2`</td>\n",
       "      <td>0.3`</td>\n",
       "      <td>0.0`</td>\n",
       "      <td>1e+100`</td>\n",
       "      <td>0.8`</td>\n",
       "      <td>0.04`</td>\n",
       "      <td>15`</td>\n",
       "      <td>15`</td>\n",
       "      <td>6`</td>\n",
       "      <td>0.3`</td>\n",
       "      <td>0.1286`</td>\n",
       "      <td>0.0`</td>\n",
       "      <td>0.0`</td>\n",
       "      <td>1.0`</td>\n",
       "      <td>0.0`</td>\n",
       "      <td>0.0`</td>\n",
       "      <td>0.0`</td>\n",
       "      <td>0.0`</td>\n",
       "      <td>0.0`</td>\n",
       "      <td>0.0`</td>\n",
       "    </tr>\n",
       "  </tbody>\n",
       "</table>\n",
       "</div>"
      ],
      "text/plain": [
       "  dpmn_tauDOP dpmn_alpha dpmn_DAt dpmn_taum dpmn_dPRE dpmn_dPOST dpmn_tauE  \\\n",
       "0          2`       0.3`     0.0`   1e+100`      0.8`      0.04`       15`   \n",
       "\n",
       "  dpmn_tauPRE dpmn_tauPOST dpmn_wmax   dpmn_w dpmn_Q1 dpmn_Q2 dpmn_m dpmn_E  \\\n",
       "0         15`           6`      0.3`  0.1286`    0.0`    0.0`   1.0`   0.0`   \n",
       "\n",
       "  dpmn_DAp dpmn_APRE dpmn_APOST dpmn_XPRE dpmn_XPOST  \n",
       "0     0.0`      0.0`       0.0`      0.0`       0.0`  "
      ]
     },
     "execution_count": 16,
     "metadata": {},
     "output_type": "execute_result"
    }
   ],
   "source": [
    "results['dpmndefaults']"
   ]
  },
  {
   "cell_type": "code",
   "execution_count": 17,
   "metadata": {},
   "outputs": [
    {
     "data": {
      "text/html": [
       "<div>\n",
       "<style scoped>\n",
       "    .dataframe tbody tr th:only-of-type {\n",
       "        vertical-align: middle;\n",
       "    }\n",
       "\n",
       "    .dataframe tbody tr th {\n",
       "        vertical-align: top;\n",
       "    }\n",
       "\n",
       "    .dataframe thead th {\n",
       "        text-align: right;\n",
       "    }\n",
       "</style>\n",
       "<table border=\"1\" class=\"dataframe\">\n",
       "  <thead>\n",
       "    <tr style=\"text-align: right;\">\n",
       "      <th></th>\n",
       "      <th>bayes_unif_min</th>\n",
       "      <th>bayes_unif_max</th>\n",
       "      <th>bayes_H</th>\n",
       "      <th>bayes_sF</th>\n",
       "      <th>q_alpha</th>\n",
       "      <th>dpmn_CPP_scale</th>\n",
       "      <th>reward_value</th>\n",
       "      <th>chosen_action</th>\n",
       "    </tr>\n",
       "  </thead>\n",
       "  <tbody>\n",
       "    <tr>\n",
       "      <th>0</th>\n",
       "      <td>0.0</td>\n",
       "      <td>2.0</td>\n",
       "      <td>0.05</td>\n",
       "      <td>1.25</td>\n",
       "      <td>0.45</td>\n",
       "      <td>15.0</td>\n",
       "      <td>0.0</td>\n",
       "      <td>2</td>\n",
       "    </tr>\n",
       "  </tbody>\n",
       "</table>\n",
       "</div>"
      ],
      "text/plain": [
       "   bayes_unif_min  bayes_unif_max  bayes_H  bayes_sF  q_alpha  dpmn_CPP_scale  \\\n",
       "0             0.0             2.0     0.05      1.25     0.45            15.0   \n",
       "\n",
       "   reward_value  chosen_action  \n",
       "0           0.0              2  "
      ]
     },
     "execution_count": 17,
     "metadata": {},
     "output_type": "execute_result"
    }
   ],
   "source": [
    "results['Q_support_params']"
   ]
  },
  {
   "cell_type": "code",
   "execution_count": null,
   "metadata": {},
   "outputs": [],
   "source": []
  }
 ],
 "metadata": {
  "kernelspec": {
   "display_name": "Python 3",
   "language": "python",
   "name": "python3"
  },
  "language_info": {
   "codemirror_mode": {
    "name": "ipython",
    "version": 3
   },
   "file_extension": ".py",
   "mimetype": "text/x-python",
   "name": "python",
   "nbconvert_exporter": "python",
   "pygments_lexer": "ipython3",
   "version": "3.6.10"
  }
 },
 "nbformat": 4,
 "nbformat_minor": 4
}
