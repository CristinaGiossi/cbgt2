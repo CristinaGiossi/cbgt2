{
 "cells": [
  {
   "cell_type": "code",
   "execution_count": 1,
   "metadata": {},
   "outputs": [],
   "source": [
    "#ray stop\n",
    "#ray start --head --port=6379 --redis-password=\"cbgt2\"\n",
    "#ray start --address='10.162.14.77:6379' --redis-password='cbgt2'\n",
    "#%load_ext autoreload\n",
    "#%autoreload 2\n",
    "#%reload_ext autoreload \n",
    "#if it doesn't work, shut down the ray server and start it again\n"
   ]
  },
  {
   "cell_type": "code",
   "execution_count": 2,
   "metadata": {},
   "outputs": [
    {
     "name": "stderr",
     "output_type": "stream",
     "text": [
      "/home/bahuguna/anaconda3/envs/cbgt_env/lib/python3.6/site-packages/ray/autoscaler/_private/cli_logger.py:61: FutureWarning: Not all Ray CLI dependencies were found. In Ray 1.4+, the Ray CLI, autoscaler, and dashboard will only be usable via `pip install 'ray[default]'`. Please update your install command.\n",
      "  \"update your install command.\", FutureWarning)\n",
      "2021-08-05 16:15:15,425\tINFO worker.py:727 -- Connecting to existing Ray cluster at address: 172.25.0.163:6379\n"
     ]
    }
   ],
   "source": [
    "import cbgt as cbgt\n",
    "from frontendhelpers import * \n",
    "from tracetype import *\n",
    "import init_params as par \n",
    "import popconstruct_copy as popconstruct\n",
    "import pdb"
   ]
  },
  {
   "cell_type": "code",
   "execution_count": 51,
   "metadata": {},
   "outputs": [],
   "source": [
    "pl = cbgt.Pipeline()"
   ]
  },
  {
   "cell_type": "code",
   "execution_count": 52,
   "metadata": {},
   "outputs": [],
   "source": [
    "pl.celldefaults = pl[par.helper_cellparams]()\n",
    "pl.popspecific = pl[par.helper_popspecific]()\n",
    "pl.receptordefaults = pl[par.helper_receptor]()\n",
    "pl.basestim = pl[par.helper_basestim]()\n",
    "pl.dpmndefaults = pl[par.helper_dpmn]()\n",
    "pl.d1defaults = pl[par.helper_d1]()\n",
    "pl.d2defaults = pl[par.helper_d2]()\n",
    "pl.actionchannels = pl[par.helper_actionchannels]()\n",
    "pl.popdata = pl[popconstruct.helper_popconstruct](pl.actionchannels, pl.popspecific, pl.celldefaults, pl.receptordefaults, pl.basestim, pl.dpmndefaults, pl.d1defaults, pl.d2defaults)\n",
    "pl.pathways = pl[popconstruct.helper_poppathways](pl.popdata)\n",
    "#pl.Q_support_params = pl[par.helper_init_Q_support_params]()"
   ]
  },
  {
   "cell_type": "code",
   "execution_count": 53,
   "metadata": {},
   "outputs": [],
   "source": [
    "def codeblock_init_Q_support_params(self):\n",
    "    self.Q_support_params = par.helper_init_Q_support_params()\n",
    "\n",
    "def codeblock_init_Q_df(self):\n",
    "    self.Q_df = par.helper_init_Q_df(self.channels)\n",
    "    \n",
    "def codeblock_update_chosen_action(self,action):\n",
    "    self.Q_support_params = par.helper_update_chosen_action(self.Q_support_params,action)\n",
    "    \n",
    "def codeblock_update_Q_df(self):\n",
    "    self.Q_df, self.Q_support_params, self.dpmndefaults = par.helper_update_Q_df(self.Q_df, self.Q_support_params, self.dpmndefaults)\n",
    "    \n"
   ]
  },
  {
   "cell_type": "code",
   "execution_count": 54,
   "metadata": {},
   "outputs": [
    {
     "data": {
      "text/plain": [
       "<backend.Pipeline at 0x7f7fccb9b080>"
      ]
     },
     "execution_count": 54,
     "metadata": {},
     "output_type": "execute_result"
    }
   ],
   "source": [
    "q_val_pipeline = cbgt.Pipeline()\n",
    "q_val_pipeline.Q_support_params = q_val_pipeline[par.helper_init_Q_support_params]()\n",
    "q_val_pipeline.Q_df = q_val_pipeline[par.helper_init_Q_df](pl.actionchannels)\n",
    "q_val_pipeline.chosen_action = q_val_pipeline[par.helper_update_chosen_action](q_val_pipeline.Q_support_params,2)\n",
    "q_val_pipeline.add(codeblock_update_Q_df)\n",
    "\n",
    "pl.add(q_val_pipeline)\n",
    "\n"
   ]
  },
  {
   "cell_type": "code",
   "execution_count": 55,
   "metadata": {},
   "outputs": [
    {
     "name": "stdout",
     "output_type": "stream",
     "text": [
      "\u001b[2m\u001b[36m(pid=3680107)\u001b[0m update chosen action\n",
      "\u001b[2m\u001b[36m(pid=3680107)\u001b[0m update chosen action\n",
      "\u001b[2m\u001b[36m(pid=3680107)\u001b[0m In update_Q_df\n",
      "\u001b[2m\u001b[36m(pid=3680107)\u001b[0m Q_support_params\n",
      "\u001b[2m\u001b[36m(pid=3680107)\u001b[0m    bayes_unif_min  bayes_unif_max  ...  reward_value  chosen_action\n",
      "\u001b[2m\u001b[36m(pid=3680107)\u001b[0m 0             0.0             2.0  ...            -1              2\n",
      "\u001b[2m\u001b[36m(pid=3680107)\u001b[0m \n",
      "\u001b[2m\u001b[36m(pid=3680107)\u001b[0m [1 rows x 8 columns]\n",
      "\u001b[2m\u001b[36m(pid=3680107)\u001b[0m Q_df\n",
      "\u001b[2m\u001b[36m(pid=3680107)\u001b[0m    Q_val  action\n",
      "\u001b[2m\u001b[36m(pid=3680107)\u001b[0m 0  0.500       1\n",
      "\u001b[2m\u001b[36m(pid=3680107)\u001b[0m 1 -0.175       2\n",
      "\u001b[2m\u001b[36m(pid=3680107)\u001b[0m In update_Q_df\n",
      "\u001b[2m\u001b[36m(pid=3680107)\u001b[0m Q_support_params\n",
      "\u001b[2m\u001b[36m(pid=3680107)\u001b[0m    bayes_unif_min  bayes_unif_max  ...  reward_value  chosen_action\n",
      "\u001b[2m\u001b[36m(pid=3680107)\u001b[0m 0             0.0             2.0  ...            -1              2\n",
      "\u001b[2m\u001b[36m(pid=3680107)\u001b[0m \n",
      "\u001b[2m\u001b[36m(pid=3680107)\u001b[0m [1 rows x 8 columns]\n",
      "\u001b[2m\u001b[36m(pid=3680107)\u001b[0m Q_df\n",
      "\u001b[2m\u001b[36m(pid=3680107)\u001b[0m    Q_val  action\n",
      "\u001b[2m\u001b[36m(pid=3680107)\u001b[0m 0  0.500       1\n",
      "\u001b[2m\u001b[36m(pid=3680107)\u001b[0m 1 -0.175       2\n"
     ]
    }
   ],
   "source": [
    "environment = {\n",
    "    'params': None, \n",
    "    'pops': None,\n",
    "    'receps' : None, \n",
    "    'base' : None,\n",
    "    'dpmns' : None,\n",
    "    'd1' : None,\n",
    "    'd2' : None,\n",
    "    'channels' : None,\n",
    "    'newpathways' : None,\n",
    "    'Q_support_params': None,\n",
    "    'Q_df':None,\n",
    "    \n",
    "}\n",
    "results = cbgt.ExecutionManager(cores=7).run(pl,environment) "
   ]
  },
  {
   "cell_type": "code",
   "execution_count": 56,
   "metadata": {},
   "outputs": [
    {
     "name": "stdout",
     "output_type": "stream",
     "text": [
      "{'params': None, 'pops': None, 'receps': None, 'base': None, 'dpmns': None, 'd1': None, 'd2': None, 'channels': None, 'newpathways': None, 'Q_support_params':    bayes_unif_min  bayes_unif_max  bayes_H  bayes_sF  q_alpha  dpmn_CPP_scale  \\\n",
      "0             0.0             2.0     0.05      1.25     0.45            15.0   \n",
      "\n",
      "   reward_value  chosen_action  \n",
      "0            -1              2  , 'Q_df':    Q_val  action\n",
      "0  0.500       1\n",
      "1 -0.175       2, 'celldefaults':      N     C Taum RestPot ResetPot Threshold RestPot_ca Alpha_ca Tau_ca  \\\n",
      "0  75`  0.5`  20`    -70`     -55`      -50`       -85`     0.5`    80`   \n",
      "\n",
      "  Eff_ca  ... g_adr_max Vadr_h Vadr_s ADRRevPot g_k_max  Vk_h  Vk_s tau_k_max  \\\n",
      "0   0.0`  ...        0`  -100`    10`      -90`      0`  -34`  6.5`        8`   \n",
      "\n",
      "  n_k   h  \n",
      "0  0`  1`  \n",
      "\n",
      "[1 rows x 25 columns], 'popspecific': {'LIP': {'N': [204]}, 'FSI': {'C': [0.2], 'Taum': [10]}, 'GPeP': {'N': [750], 'g_T': [0.06], 'Taum': [20]}, 'STNE': {'N': [750], 'g_T': [0.06]}, 'LIPI': {'N': [186], 'C': [0.2], 'Taum': [10]}, 'Th': {'Taum': [27.78]}}, 'receptordefaults':   Tau_AMPA RevPot_AMPA Tau_GABA RevPot_GABA Tau_NMDA RevPot_NMDA\n",
      "0       2`          0`       5`        -70`     100`          0`, 'basestim': {'FSI': {'FreqExt_AMPA': [3.6], 'MeanExtEff_AMPA': [1.55], 'MeanExtCon_AMPA': [800]}, 'LIPI': {'FreqExt_AMPA': [1.05], 'MeanExtEff_AMPA': [1.2], 'MeanExtCon_AMPA': [640]}, 'GPi': {'FreqExt_AMPA': [0.8], 'MeanExtEff_AMPA': [5.9], 'MeanExtCon_AMPA': [800]}, 'STNE': {'FreqExt_AMPA': [4.45], 'MeanExtEff_AMPA': [1.65], 'MeanExtCon_AMPA': [800]}, 'GPeP': {'FreqExt_AMPA': [4], 'MeanExtEff_AMPA': [2], 'MeanExtCon_AMPA': [800], 'FreqExt_GABA': [2], 'MeanExtEff_GABA': [2], 'MeanExtCon_GABA': [2000]}, 'D1STR': {'FreqExt_AMPA': [1.3], 'MeanExtEff_AMPA': [4], 'MeanExtCon_AMPA': [800]}, 'D2STR': {'FreqExt_AMPA': [1.3], 'MeanExtEff_AMPA': [4], 'MeanExtCon_AMPA': [800]}, 'LIP': {'FreqExt_AMPA': [2.2], 'MeanExtEff_AMPA': [2], 'MeanExtCon_AMPA': [800]}, 'Th': {'FreqExt_AMPA': [2.2], 'MeanExtEff_AMPA': [2.5], 'MeanExtCon_AMPA': [800]}}, 'dpmndefaults':   dpmn_tauDOP dpmn_alpha dpmn_DAt dpmn_taum dpmn_dPRE dpmn_dPOST dpmn_tauE  \\\n",
      "0          2`       0.3`     0.0`   1e+100`      0.8`      0.04`       15`   \n",
      "\n",
      "  dpmn_tauPRE dpmn_tauPOST dpmn_wmax   dpmn_w dpmn_Q1 dpmn_Q2 dpmn_m dpmn_E  \\\n",
      "0         15`           6`      0.3`  0.1286`    0.0`    0.0`   1.0`   0.0`   \n",
      "\n",
      "   dpmn_DAp dpmn_APRE dpmn_APOST dpmn_XPRE dpmn_XPOST  \n",
      "0      -0.0      0.0`       0.0`      0.0`       0.0`  , 'd1defaults':   dpmn_type          dpmn_alphaw dpmn_a dpmn_b dpmn_c\n",
      "0        1`  18.333333333333332`   1.0`   0.1`  0.05`, 'd2defaults':   dpmn_type dpmn_alphaw dpmn_a  dpmn_b dpmn_c\n",
      "0        2`      -15.0`   0.5`  0.005`  0.05`, 'actionchannels':   action\n",
      "0     1`\n",
      "1     2`, 'popdata':       name action     N     C    Taum RestPot ResetPot Threshold RestPot_ca  \\\n",
      "0     GPi`     1`   75`  0.5`     20`    -70`     -55`      -50`       -85`   \n",
      "1     GPi`     2`   75`  0.5`     20`    -70`     -55`      -50`       -85`   \n",
      "2    STNE`     1`  750`  0.5`     20`    -70`     -55`      -50`       -85`   \n",
      "3    STNE`     2`  750`  0.5`     20`    -70`     -55`      -50`       -85`   \n",
      "4    GPeP`     1`  750`  0.5`     20`    -70`     -55`      -50`       -85`   \n",
      "5    GPeP`     2`  750`  0.5`     20`    -70`     -55`      -50`       -85`   \n",
      "6   D1STR`     1`   75`  0.5`     20`    -70`     -55`      -50`       -85`   \n",
      "7   D1STR`     2`   75`  0.5`     20`    -70`     -55`      -50`       -85`   \n",
      "8   D2STR`     1`   75`  0.5`     20`    -70`     -55`      -50`       -85`   \n",
      "9   D2STR`     2`   75`  0.5`     20`    -70`     -55`      -50`       -85`   \n",
      "10    LIP`     1`  204`  0.5`     20`    -70`     -55`      -50`       -85`   \n",
      "11    LIP`     2`  204`  0.5`     20`    -70`     -55`      -50`       -85`   \n",
      "12     Th`     1`   75`  0.5`  27.78`    -70`     -55`      -50`       -85`   \n",
      "13     Th`     2`   75`  0.5`  27.78`    -70`     -55`      -50`       -85`   \n",
      "14    FSI`   nan`   75`  0.2`     10`    -70`     -55`      -50`       -85`   \n",
      "15   LIPI`   nan`  186`  0.2`     10`    -70`     -55`      -50`       -85`   \n",
      "\n",
      "   Alpha_ca  ... dpmn_DAp dpmn_APRE dpmn_APOST dpmn_XPRE dpmn_XPOST dpmn_type  \\\n",
      "0      0.5`  ...     nan`      nan`       nan`      nan`       nan`      nan`   \n",
      "1      0.5`  ...     nan`      nan`       nan`      nan`       nan`      nan`   \n",
      "2      0.5`  ...     nan`      nan`       nan`      nan`       nan`      nan`   \n",
      "3      0.5`  ...     nan`      nan`       nan`      nan`       nan`      nan`   \n",
      "4      0.5`  ...     nan`      nan`       nan`      nan`       nan`      nan`   \n",
      "5      0.5`  ...     nan`      nan`       nan`      nan`       nan`      nan`   \n",
      "6      0.5`  ...     0.0`      0.0`       0.0`      0.0`       0.0`        1`   \n",
      "7      0.5`  ...     0.0`      0.0`       0.0`      0.0`       0.0`        1`   \n",
      "8      0.5`  ...     0.0`      0.0`       0.0`      0.0`       0.0`        2`   \n",
      "9      0.5`  ...     0.0`      0.0`       0.0`      0.0`       0.0`        2`   \n",
      "10     0.5`  ...     nan`      nan`       nan`      nan`       nan`      nan`   \n",
      "11     0.5`  ...     nan`      nan`       nan`      nan`       nan`      nan`   \n",
      "12     0.5`  ...     nan`      nan`       nan`      nan`       nan`      nan`   \n",
      "13     0.5`  ...     nan`      nan`       nan`      nan`       nan`      nan`   \n",
      "14     0.5`  ...     nan`      nan`       nan`      nan`       nan`      nan`   \n",
      "15     0.5`  ...     nan`      nan`       nan`      nan`       nan`      nan`   \n",
      "\n",
      "            dpmn_alphaw dpmn_a  dpmn_b dpmn_c  \n",
      "0                  nan`   nan`    nan`   nan`  \n",
      "1                  nan`   nan`    nan`   nan`  \n",
      "2                  nan`   nan`    nan`   nan`  \n",
      "3                  nan`   nan`    nan`   nan`  \n",
      "4                  nan`   nan`    nan`   nan`  \n",
      "5                  nan`   nan`    nan`   nan`  \n",
      "6   18.333333333333332`   1.0`    0.1`  0.05`  \n",
      "7   18.333333333333332`   1.0`    0.1`  0.05`  \n",
      "8                -15.0`   0.5`  0.005`  0.05`  \n",
      "9                -15.0`   0.5`  0.005`  0.05`  \n",
      "10                 nan`   nan`    nan`   nan`  \n",
      "11                 nan`   nan`    nan`   nan`  \n",
      "12                 nan`   nan`    nan`   nan`  \n",
      "13                 nan`   nan`    nan`   nan`  \n",
      "14                 nan`   nan`    nan`   nan`  \n",
      "15                 nan`   nan`    nan`   nan`  \n",
      "\n",
      "[16 rows x 64 columns], 'pathways':        src    dest receptor  type        con        eff  \\\n",
      "0     LIP`  D1STR`    AMPA`  syn`       1.0`     0.027`   \n",
      "1     LIP`  D1STR`    NMDA`  syn`       1.0`     0.027`   \n",
      "2     LIP`  D2STR`    AMPA`  syn`       1.0`     0.027`   \n",
      "3     LIP`  D2STR`    NMDA`  syn`       1.0`     0.027`   \n",
      "4     LIP`    FSI`    AMPA`  all`       1.0`     0.198`   \n",
      "5     LIP`     Th`    AMPA`  all`       1.0`     0.035`   \n",
      "6     LIP`     Th`    NMDA`  all`       1.0`     0.035`   \n",
      "7   D1STR`  D1STR`    GABA`  syn`      0.45`      0.28`   \n",
      "8   D1STR`  D2STR`    GABA`  syn`      0.45`      0.28`   \n",
      "9   D1STR`    GPi`    GABA`  syn`       1.0`      2.09`   \n",
      "10  D2STR`  D2STR`    GABA`  syn`      0.45`      0.28`   \n",
      "11  D2STR`  D1STR`    GABA`  syn`       0.5`      0.28`   \n",
      "12  D2STR`   GPeP`    GABA`  syn`       1.0`      4.07`   \n",
      "13    FSI`    FSI`    GABA`  all`       1.0`   3.25833`   \n",
      "14    FSI`  D1STR`    GABA`  all`       1.0`    1.7776`   \n",
      "15    FSI`  D2STR`    GABA`  all`       1.0`  1.669867`   \n",
      "16   GPeP`   GPeP`    GABA`  all`    0.0667`      1.75`   \n",
      "17   GPeP`   STNE`    GABA`  syn`    0.0667`      0.35`   \n",
      "18   GPeP`    GPi`    GABA`  syn`       1.0`      0.06`   \n",
      "19   STNE`   GPeP`    AMPA`  syn`  0.161668`      0.07`   \n",
      "20   STNE`   GPeP`    NMDA`  syn`  0.161668`      1.51`   \n",
      "21   STNE`    GPi`    NMDA`  all`       1.0`     0.038`   \n",
      "22    GPi`     Th`    GABA`  syn`       1.0`    0.3315`   \n",
      "23     Th`  D1STR`    AMPA`  syn`       1.0`    0.3825`   \n",
      "24     Th`  D2STR`    AMPA`  syn`       1.0`    0.3825`   \n",
      "25     Th`    FSI`    AMPA`  all`    0.8334`       0.1`   \n",
      "26     Th`    LIP`    NMDA`  all`    0.8334`      0.03`   \n",
      "27    LIP`    LIP`    AMPA`  all`    0.4335`    0.0127`   \n",
      "28    LIP`    LIP`    NMDA`  all`    0.4335`      0.15`   \n",
      "29    LIP`   LIPI`    AMPA`  all`  0.241667`     0.113`   \n",
      "30    LIP`   LIPI`    NMDA`  all`  0.241667`     0.525`   \n",
      "31   LIPI`    LIP`    GABA`  all`       1.0`      1.75`   \n",
      "32   LIPI`   LIPI`    GABA`  all`       1.0`   3.58335`   \n",
      "33     Th`   LIPI`    NMDA`  all`    0.8334`     0.015`   \n",
      "\n",
      "                                           biselector  \n",
      "0   <function MatchBiselector.<locals>.Biselector ...  \n",
      "1   <function MatchBiselector.<locals>.Biselector ...  \n",
      "2   <function MatchBiselector.<locals>.Biselector ...  \n",
      "3   <function MatchBiselector.<locals>.Biselector ...  \n",
      "4   <function MatchBiselector.<locals>.Biselector ...  \n",
      "5   <function MatchBiselector.<locals>.Biselector ...  \n",
      "6   <function MatchBiselector.<locals>.Biselector ...  \n",
      "7   <function MatchBiselector.<locals>.Biselector ...  \n",
      "8   <function MatchBiselector.<locals>.Biselector ...  \n",
      "9   <function MatchBiselector.<locals>.Biselector ...  \n",
      "10  <function MatchBiselector.<locals>.Biselector ...  \n",
      "11  <function MatchBiselector.<locals>.Biselector ...  \n",
      "12  <function MatchBiselector.<locals>.Biselector ...  \n",
      "13  <function MatchBiselector.<locals>.Biselector ...  \n",
      "14  <function MatchBiselector.<locals>.Biselector ...  \n",
      "15  <function MatchBiselector.<locals>.Biselector ...  \n",
      "16  <function MatchBiselector.<locals>.Biselector ...  \n",
      "17  <function MatchBiselector.<locals>.Biselector ...  \n",
      "18  <function MatchBiselector.<locals>.Biselector ...  \n",
      "19  <function MatchBiselector.<locals>.Biselector ...  \n",
      "20  <function MatchBiselector.<locals>.Biselector ...  \n",
      "21  <function MatchBiselector.<locals>.Biselector ...  \n",
      "22  <function MatchBiselector.<locals>.Biselector ...  \n",
      "23  <function MatchBiselector.<locals>.Biselector ...  \n",
      "24  <function MatchBiselector.<locals>.Biselector ...  \n",
      "25  <function MatchBiselector.<locals>.Biselector ...  \n",
      "26  <function MatchBiselector.<locals>.Biselector ...  \n",
      "27  <function MatchBiselector.<locals>.Biselector ...  \n",
      "28  <function MatchBiselector.<locals>.Biselector ...  \n",
      "29  <function MatchBiselector.<locals>.Biselector ...  \n",
      "30  <function MatchBiselector.<locals>.Biselector ...  \n",
      "31  <function MatchBiselector.<locals>.Biselector ...  \n",
      "32  <function MatchBiselector.<locals>.Biselector ...  \n",
      "33  <function MatchBiselector.<locals>.Biselector ...  , 'chosen_action':   bayes_unif_min bayes_unif_max bayes_H bayes_sF q_alpha dpmn_CPP_scale  \\\n",
      "0           0.0`           2.0`   0.05`    1.25`   0.45`          15.0`   \n",
      "\n",
      "  reward_value  chosen_action  \n",
      "0          -1`              2  }\n"
     ]
    }
   ],
   "source": [
    "print(results)"
   ]
  },
  {
   "cell_type": "code",
   "execution_count": 13,
   "metadata": {},
   "outputs": [
    {
     "name": "stdout",
     "output_type": "stream",
     "text": [
      "0   -1.5\n",
      "Name: reward_value, dtype: float64\n"
     ]
    }
   ],
   "source": []
  },
  {
   "cell_type": "code",
   "execution_count": 14,
   "metadata": {},
   "outputs": [],
   "source": []
  },
  {
   "cell_type": "code",
   "execution_count": 17,
   "metadata": {},
   "outputs": [],
   "source": []
  },
  {
   "cell_type": "code",
   "execution_count": 20,
   "metadata": {},
   "outputs": [
    {
     "ename": "ValueError",
     "evalue": "assignment destination is read-only",
     "output_type": "error",
     "traceback": [
      "\u001b[0;31m---------------------------------------------------------------------------\u001b[0m",
      "\u001b[0;31mValueError\u001b[0m                                Traceback (most recent call last)",
      "\u001b[0;32m<ipython-input-20-53be5de31cb4>\u001b[0m in \u001b[0;36m<module>\u001b[0;34m\u001b[0m\n\u001b[0;32m----> 1\u001b[0;31m \u001b[0mresults\u001b[0m\u001b[0;34m[\u001b[0m\u001b[0;34m'Q_df'\u001b[0m\u001b[0;34m]\u001b[0m\u001b[0;34m.\u001b[0m\u001b[0mloc\u001b[0m\u001b[0;34m[\u001b[0m\u001b[0mresults\u001b[0m\u001b[0;34m[\u001b[0m\u001b[0;34m'Q_df'\u001b[0m\u001b[0;34m]\u001b[0m\u001b[0;34m[\u001b[0m\u001b[0;34m\"action\"\u001b[0m\u001b[0;34m]\u001b[0m\u001b[0;34m==\u001b[0m\u001b[0;36m1\u001b[0m\u001b[0;34m,\u001b[0m\u001b[0;34m\"Q_val\"\u001b[0m\u001b[0;34m]\u001b[0m \u001b[0;34m=\u001b[0m \u001b[0mq_val_updated\u001b[0m\u001b[0;34m.\u001b[0m\u001b[0mvalues\u001b[0m\u001b[0;34m\u001b[0m\u001b[0;34m\u001b[0m\u001b[0m\n\u001b[0m",
      "\u001b[0;32m~/anaconda3/envs/cbgt_env/lib/python3.6/site-packages/pandas/core/indexing.py\u001b[0m in \u001b[0;36m__setitem__\u001b[0;34m(self, key, value)\u001b[0m\n\u001b[1;32m    669\u001b[0m             \u001b[0mkey\u001b[0m \u001b[0;34m=\u001b[0m \u001b[0mcom\u001b[0m\u001b[0;34m.\u001b[0m\u001b[0mapply_if_callable\u001b[0m\u001b[0;34m(\u001b[0m\u001b[0mkey\u001b[0m\u001b[0;34m,\u001b[0m \u001b[0mself\u001b[0m\u001b[0;34m.\u001b[0m\u001b[0mobj\u001b[0m\u001b[0;34m)\u001b[0m\u001b[0;34m\u001b[0m\u001b[0;34m\u001b[0m\u001b[0m\n\u001b[1;32m    670\u001b[0m         \u001b[0mindexer\u001b[0m \u001b[0;34m=\u001b[0m \u001b[0mself\u001b[0m\u001b[0;34m.\u001b[0m\u001b[0m_get_setitem_indexer\u001b[0m\u001b[0;34m(\u001b[0m\u001b[0mkey\u001b[0m\u001b[0;34m)\u001b[0m\u001b[0;34m\u001b[0m\u001b[0;34m\u001b[0m\u001b[0m\n\u001b[0;32m--> 671\u001b[0;31m         \u001b[0mself\u001b[0m\u001b[0;34m.\u001b[0m\u001b[0m_setitem_with_indexer\u001b[0m\u001b[0;34m(\u001b[0m\u001b[0mindexer\u001b[0m\u001b[0;34m,\u001b[0m \u001b[0mvalue\u001b[0m\u001b[0;34m)\u001b[0m\u001b[0;34m\u001b[0m\u001b[0;34m\u001b[0m\u001b[0m\n\u001b[0m\u001b[1;32m    672\u001b[0m \u001b[0;34m\u001b[0m\u001b[0m\n\u001b[1;32m    673\u001b[0m     \u001b[0;32mdef\u001b[0m \u001b[0m_validate_key\u001b[0m\u001b[0;34m(\u001b[0m\u001b[0mself\u001b[0m\u001b[0;34m,\u001b[0m \u001b[0mkey\u001b[0m\u001b[0;34m,\u001b[0m \u001b[0maxis\u001b[0m\u001b[0;34m:\u001b[0m \u001b[0mint\u001b[0m\u001b[0;34m)\u001b[0m\u001b[0;34m:\u001b[0m\u001b[0;34m\u001b[0m\u001b[0;34m\u001b[0m\u001b[0m\n",
      "\u001b[0;32m~/anaconda3/envs/cbgt_env/lib/python3.6/site-packages/pandas/core/indexing.py\u001b[0m in \u001b[0;36m_setitem_with_indexer\u001b[0;34m(self, indexer, value)\u001b[0m\n\u001b[1;32m   1010\u001b[0m                     \u001b[0mlabels\u001b[0m\u001b[0;34m,\u001b[0m \u001b[0mvalue\u001b[0m\u001b[0;34m,\u001b[0m \u001b[0mplane_indexer\u001b[0m\u001b[0;34m,\u001b[0m \u001b[0mlplane_indexer\u001b[0m\u001b[0;34m,\u001b[0m \u001b[0mself\u001b[0m\u001b[0;34m.\u001b[0m\u001b[0mobj\u001b[0m\u001b[0;34m\u001b[0m\u001b[0;34m\u001b[0m\u001b[0m\n\u001b[1;32m   1011\u001b[0m                 ):\n\u001b[0;32m-> 1012\u001b[0;31m                     \u001b[0msetter\u001b[0m\u001b[0;34m(\u001b[0m\u001b[0mlabels\u001b[0m\u001b[0;34m[\u001b[0m\u001b[0;36m0\u001b[0m\u001b[0;34m]\u001b[0m\u001b[0;34m,\u001b[0m \u001b[0mvalue\u001b[0m\u001b[0;34m)\u001b[0m\u001b[0;34m\u001b[0m\u001b[0;34m\u001b[0m\u001b[0m\n\u001b[0m\u001b[1;32m   1013\u001b[0m \u001b[0;34m\u001b[0m\u001b[0m\n\u001b[1;32m   1014\u001b[0m                 \u001b[0;31m# per label values\u001b[0m\u001b[0;34m\u001b[0m\u001b[0;34m\u001b[0m\u001b[0;34m\u001b[0m\u001b[0m\n",
      "\u001b[0;32m~/anaconda3/envs/cbgt_env/lib/python3.6/site-packages/pandas/core/indexing.py\u001b[0m in \u001b[0;36msetter\u001b[0;34m(item, v)\u001b[0m\n\u001b[1;32m    964\u001b[0m \u001b[0;34m\u001b[0m\u001b[0m\n\u001b[1;32m    965\u001b[0m                 \u001b[0;31m# reset the sliced object if unique\u001b[0m\u001b[0;34m\u001b[0m\u001b[0;34m\u001b[0m\u001b[0;34m\u001b[0m\u001b[0m\n\u001b[0;32m--> 966\u001b[0;31m                 \u001b[0mself\u001b[0m\u001b[0;34m.\u001b[0m\u001b[0mobj\u001b[0m\u001b[0;34m[\u001b[0m\u001b[0mitem\u001b[0m\u001b[0;34m]\u001b[0m \u001b[0;34m=\u001b[0m \u001b[0ms\u001b[0m\u001b[0;34m\u001b[0m\u001b[0;34m\u001b[0m\u001b[0m\n\u001b[0m\u001b[1;32m    967\u001b[0m \u001b[0;34m\u001b[0m\u001b[0m\n\u001b[1;32m    968\u001b[0m             \u001b[0;31m# we need an iterable, with a ndim of at least 1\u001b[0m\u001b[0;34m\u001b[0m\u001b[0;34m\u001b[0m\u001b[0;34m\u001b[0m\u001b[0m\n",
      "\u001b[0;32m~/anaconda3/envs/cbgt_env/lib/python3.6/site-packages/pandas/core/frame.py\u001b[0m in \u001b[0;36m__setitem__\u001b[0;34m(self, key, value)\u001b[0m\n\u001b[1;32m   2936\u001b[0m         \u001b[0;32melse\u001b[0m\u001b[0;34m:\u001b[0m\u001b[0;34m\u001b[0m\u001b[0;34m\u001b[0m\u001b[0m\n\u001b[1;32m   2937\u001b[0m             \u001b[0;31m# set column\u001b[0m\u001b[0;34m\u001b[0m\u001b[0;34m\u001b[0m\u001b[0;34m\u001b[0m\u001b[0m\n\u001b[0;32m-> 2938\u001b[0;31m             \u001b[0mself\u001b[0m\u001b[0;34m.\u001b[0m\u001b[0m_set_item\u001b[0m\u001b[0;34m(\u001b[0m\u001b[0mkey\u001b[0m\u001b[0;34m,\u001b[0m \u001b[0mvalue\u001b[0m\u001b[0;34m)\u001b[0m\u001b[0;34m\u001b[0m\u001b[0;34m\u001b[0m\u001b[0m\n\u001b[0m\u001b[1;32m   2939\u001b[0m \u001b[0;34m\u001b[0m\u001b[0m\n\u001b[1;32m   2940\u001b[0m     \u001b[0;32mdef\u001b[0m \u001b[0m_setitem_slice\u001b[0m\u001b[0;34m(\u001b[0m\u001b[0mself\u001b[0m\u001b[0;34m,\u001b[0m \u001b[0mkey\u001b[0m\u001b[0;34m,\u001b[0m \u001b[0mvalue\u001b[0m\u001b[0;34m)\u001b[0m\u001b[0;34m:\u001b[0m\u001b[0;34m\u001b[0m\u001b[0;34m\u001b[0m\u001b[0m\n",
      "\u001b[0;32m~/anaconda3/envs/cbgt_env/lib/python3.6/site-packages/pandas/core/frame.py\u001b[0m in \u001b[0;36m_set_item\u001b[0;34m(self, key, value)\u001b[0m\n\u001b[1;32m   2999\u001b[0m         \u001b[0mself\u001b[0m\u001b[0;34m.\u001b[0m\u001b[0m_ensure_valid_index\u001b[0m\u001b[0;34m(\u001b[0m\u001b[0mvalue\u001b[0m\u001b[0;34m)\u001b[0m\u001b[0;34m\u001b[0m\u001b[0;34m\u001b[0m\u001b[0m\n\u001b[1;32m   3000\u001b[0m         \u001b[0mvalue\u001b[0m \u001b[0;34m=\u001b[0m \u001b[0mself\u001b[0m\u001b[0;34m.\u001b[0m\u001b[0m_sanitize_column\u001b[0m\u001b[0;34m(\u001b[0m\u001b[0mkey\u001b[0m\u001b[0;34m,\u001b[0m \u001b[0mvalue\u001b[0m\u001b[0;34m)\u001b[0m\u001b[0;34m\u001b[0m\u001b[0;34m\u001b[0m\u001b[0m\n\u001b[0;32m-> 3001\u001b[0;31m         \u001b[0mNDFrame\u001b[0m\u001b[0;34m.\u001b[0m\u001b[0m_set_item\u001b[0m\u001b[0;34m(\u001b[0m\u001b[0mself\u001b[0m\u001b[0;34m,\u001b[0m \u001b[0mkey\u001b[0m\u001b[0;34m,\u001b[0m \u001b[0mvalue\u001b[0m\u001b[0;34m)\u001b[0m\u001b[0;34m\u001b[0m\u001b[0;34m\u001b[0m\u001b[0m\n\u001b[0m\u001b[1;32m   3002\u001b[0m \u001b[0;34m\u001b[0m\u001b[0m\n\u001b[1;32m   3003\u001b[0m         \u001b[0;31m# check if we are modifying a copy\u001b[0m\u001b[0;34m\u001b[0m\u001b[0;34m\u001b[0m\u001b[0;34m\u001b[0m\u001b[0m\n",
      "\u001b[0;32m~/anaconda3/envs/cbgt_env/lib/python3.6/site-packages/pandas/core/generic.py\u001b[0m in \u001b[0;36m_set_item\u001b[0;34m(self, key, value)\u001b[0m\n\u001b[1;32m   3622\u001b[0m \u001b[0;34m\u001b[0m\u001b[0m\n\u001b[1;32m   3623\u001b[0m     \u001b[0;32mdef\u001b[0m \u001b[0m_set_item\u001b[0m\u001b[0;34m(\u001b[0m\u001b[0mself\u001b[0m\u001b[0;34m,\u001b[0m \u001b[0mkey\u001b[0m\u001b[0;34m,\u001b[0m \u001b[0mvalue\u001b[0m\u001b[0;34m)\u001b[0m \u001b[0;34m->\u001b[0m \u001b[0;32mNone\u001b[0m\u001b[0;34m:\u001b[0m\u001b[0;34m\u001b[0m\u001b[0;34m\u001b[0m\u001b[0m\n\u001b[0;32m-> 3624\u001b[0;31m         \u001b[0mself\u001b[0m\u001b[0;34m.\u001b[0m\u001b[0m_data\u001b[0m\u001b[0;34m.\u001b[0m\u001b[0mset\u001b[0m\u001b[0;34m(\u001b[0m\u001b[0mkey\u001b[0m\u001b[0;34m,\u001b[0m \u001b[0mvalue\u001b[0m\u001b[0;34m)\u001b[0m\u001b[0;34m\u001b[0m\u001b[0;34m\u001b[0m\u001b[0m\n\u001b[0m\u001b[1;32m   3625\u001b[0m         \u001b[0mself\u001b[0m\u001b[0;34m.\u001b[0m\u001b[0m_clear_item_cache\u001b[0m\u001b[0;34m(\u001b[0m\u001b[0;34m)\u001b[0m\u001b[0;34m\u001b[0m\u001b[0;34m\u001b[0m\u001b[0m\n\u001b[1;32m   3626\u001b[0m \u001b[0;34m\u001b[0m\u001b[0m\n",
      "\u001b[0;32m~/anaconda3/envs/cbgt_env/lib/python3.6/site-packages/pandas/core/internals/managers.py\u001b[0m in \u001b[0;36mset\u001b[0;34m(self, item, value)\u001b[0m\n\u001b[1;32m   1088\u001b[0m             \u001b[0mblk_locs\u001b[0m \u001b[0;34m=\u001b[0m \u001b[0mblklocs\u001b[0m\u001b[0;34m[\u001b[0m\u001b[0mval_locs\u001b[0m\u001b[0;34m.\u001b[0m\u001b[0mindexer\u001b[0m\u001b[0;34m]\u001b[0m\u001b[0;34m\u001b[0m\u001b[0;34m\u001b[0m\u001b[0m\n\u001b[1;32m   1089\u001b[0m             \u001b[0;32mif\u001b[0m \u001b[0mblk\u001b[0m\u001b[0;34m.\u001b[0m\u001b[0mshould_store\u001b[0m\u001b[0;34m(\u001b[0m\u001b[0mvalue\u001b[0m\u001b[0;34m)\u001b[0m\u001b[0;34m:\u001b[0m\u001b[0;34m\u001b[0m\u001b[0;34m\u001b[0m\u001b[0m\n\u001b[0;32m-> 1090\u001b[0;31m                 \u001b[0mblk\u001b[0m\u001b[0;34m.\u001b[0m\u001b[0mset\u001b[0m\u001b[0;34m(\u001b[0m\u001b[0mblk_locs\u001b[0m\u001b[0;34m,\u001b[0m \u001b[0mvalue_getitem\u001b[0m\u001b[0;34m(\u001b[0m\u001b[0mval_locs\u001b[0m\u001b[0;34m)\u001b[0m\u001b[0;34m)\u001b[0m\u001b[0;34m\u001b[0m\u001b[0;34m\u001b[0m\u001b[0m\n\u001b[0m\u001b[1;32m   1091\u001b[0m             \u001b[0;32melse\u001b[0m\u001b[0;34m:\u001b[0m\u001b[0;34m\u001b[0m\u001b[0;34m\u001b[0m\u001b[0m\n\u001b[1;32m   1092\u001b[0m                 \u001b[0munfit_mgr_locs\u001b[0m\u001b[0;34m.\u001b[0m\u001b[0mappend\u001b[0m\u001b[0;34m(\u001b[0m\u001b[0mblk\u001b[0m\u001b[0;34m.\u001b[0m\u001b[0mmgr_locs\u001b[0m\u001b[0;34m.\u001b[0m\u001b[0mas_array\u001b[0m\u001b[0;34m[\u001b[0m\u001b[0mblk_locs\u001b[0m\u001b[0;34m]\u001b[0m\u001b[0;34m)\u001b[0m\u001b[0;34m\u001b[0m\u001b[0;34m\u001b[0m\u001b[0m\n",
      "\u001b[0;32m~/anaconda3/envs/cbgt_env/lib/python3.6/site-packages/pandas/core/internals/blocks.py\u001b[0m in \u001b[0;36mset\u001b[0;34m(self, locs, values)\u001b[0m\n\u001b[1;32m    374\u001b[0m         \u001b[0;32mNone\u001b[0m\u001b[0;34m\u001b[0m\u001b[0;34m\u001b[0m\u001b[0m\n\u001b[1;32m    375\u001b[0m         \"\"\"\n\u001b[0;32m--> 376\u001b[0;31m         \u001b[0mself\u001b[0m\u001b[0;34m.\u001b[0m\u001b[0mvalues\u001b[0m\u001b[0;34m[\u001b[0m\u001b[0mlocs\u001b[0m\u001b[0;34m]\u001b[0m \u001b[0;34m=\u001b[0m \u001b[0mvalues\u001b[0m\u001b[0;34m\u001b[0m\u001b[0;34m\u001b[0m\u001b[0m\n\u001b[0m\u001b[1;32m    377\u001b[0m \u001b[0;34m\u001b[0m\u001b[0m\n\u001b[1;32m    378\u001b[0m     \u001b[0;32mdef\u001b[0m \u001b[0mdelete\u001b[0m\u001b[0;34m(\u001b[0m\u001b[0mself\u001b[0m\u001b[0;34m,\u001b[0m \u001b[0mloc\u001b[0m\u001b[0;34m)\u001b[0m\u001b[0;34m:\u001b[0m\u001b[0;34m\u001b[0m\u001b[0;34m\u001b[0m\u001b[0m\n",
      "\u001b[0;31mValueError\u001b[0m: assignment destination is read-only"
     ]
    }
   ],
   "source": []
  },
  {
   "cell_type": "code",
   "execution_count": null,
   "metadata": {},
   "outputs": [],
   "source": []
  }
 ],
 "metadata": {
  "kernelspec": {
   "display_name": "Python 3",
   "language": "python",
   "name": "python3"
  },
  "language_info": {
   "codemirror_mode": {
    "name": "ipython",
    "version": 3
   },
   "file_extension": ".py",
   "mimetype": "text/x-python",
   "name": "python",
   "nbconvert_exporter": "python",
   "pygments_lexer": "ipython3",
   "version": "3.6.10"
  }
 },
 "nbformat": 4,
 "nbformat_minor": 4
}
