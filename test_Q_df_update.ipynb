{
 "cells": [
  {
   "cell_type": "code",
   "execution_count": 1,
   "metadata": {},
   "outputs": [],
   "source": [
    "#ray stop\n",
    "#ray start --head --port=6379 --redis-password=\"cbgt2\"\n",
    "#ray start --address='10.162.14.77:6379' --redis-password='cbgt2'\n",
    "#%load_ext autoreload\n",
    "#%autoreload 2\n",
    "#%reload_ext autoreload \n",
    "#if it doesn't work, shut down the ray server and start it again\n"
   ]
  },
  {
   "cell_type": "code",
   "execution_count": 1,
   "metadata": {},
   "outputs": [
    {
     "name": "stderr",
     "output_type": "stream",
     "text": [
      "/home/bahuguna/anaconda3/envs/cbgt_env/lib/python3.6/site-packages/ray/autoscaler/_private/cli_logger.py:61: FutureWarning: Not all Ray CLI dependencies were found. In Ray 1.4+, the Ray CLI, autoscaler, and dashboard will only be usable via `pip install 'ray[default]'`. Please update your install command.\n",
      "  \"update your install command.\", FutureWarning)\n",
      "2021-08-09 09:44:52,249\tINFO worker.py:727 -- Connecting to existing Ray cluster at address: 10.0.0.154:6379\n"
     ]
    }
   ],
   "source": [
    "import cbgt as cbgt\n",
    "from frontendhelpers import * \n",
    "from tracetype import *\n",
    "import init_params as par \n",
    "import popconstruct_copy as popconstruct\n",
    "import pdb"
   ]
  },
  {
   "cell_type": "code",
   "execution_count": 16,
   "metadata": {},
   "outputs": [],
   "source": [
    "pl = cbgt.Pipeline()"
   ]
  },
  {
   "cell_type": "code",
   "execution_count": 17,
   "metadata": {},
   "outputs": [],
   "source": [
    "pl.celldefaults = pl[par.helper_cellparams]()\n",
    "pl.popspecific = pl[par.helper_popspecific]()\n",
    "pl.receptordefaults = pl[par.helper_receptor]()\n",
    "pl.basestim = pl[par.helper_basestim]()\n",
    "pl.dpmndefaults = pl[par.helper_dpmn]()\n",
    "pl.d1defaults = pl[par.helper_d1]()\n",
    "pl.d2defaults = pl[par.helper_d2]()\n",
    "#pl.actionchannels = pl[par.helper_actionchannels]()\n",
    "pl.popdata = pl[popconstruct.helper_popconstruct](pl.actionchannels, pl.popspecific, pl.celldefaults, pl.receptordefaults, pl.basestim, pl.dpmndefaults, pl.d1defaults, pl.d2defaults)\n",
    "pl.pathways = pl[popconstruct.helper_poppathways](pl.popdata)\n",
    "#pl.Q_support_params = pl[par.helper_init_Q_support_params]()"
   ]
  },
  {
   "cell_type": "code",
   "execution_count": 18,
   "metadata": {},
   "outputs": [],
   "source": [
    "def codeblock_init_Q_support_params(self):\n",
    "    self.Q_support_params = par.helper_init_Q_support_params()\n",
    "\n",
    "def codeblock_init_Q_df(self):\n",
    "    self.Q_df = par.helper_init_Q_df(self.channels)\n",
    "    \n",
    "def codeblock_update_chosen_action(self,action):\n",
    "    self.Q_support_params = par.helper_update_chosen_action(self.Q_support_params,action)\n",
    "    \n",
    "def codeblock_update_Q_df(self):\n",
    "    self.Q_df, self.Q_support_params, self.dpmndefaults = par.helper_update_Q_df(self.Q_df, self.Q_support_params, self.dpmndefaults)\n",
    "    \n"
   ]
  },
  {
   "cell_type": "code",
   "execution_count": 19,
   "metadata": {},
   "outputs": [
    {
     "data": {
      "text/plain": [
       "<backend.Pipeline at 0x7f867eaa5198>"
      ]
     },
     "execution_count": 19,
     "metadata": {},
     "output_type": "execute_result"
    }
   ],
   "source": [
    "q_val_pipeline = cbgt.Pipeline()\n",
    "q_val_pipeline.Q_support_params = q_val_pipeline[par.helper_init_Q_support_params]()\n",
    "q_val_pipeline.Q_df = q_val_pipeline[par.helper_init_Q_df](pl.actionchannels)\n",
    "q_val_pipeline.chosen_action = q_val_pipeline[par.helper_update_chosen_action](q_val_pipeline.Q_support_params,2)\n",
    "q_val_pipeline.add(codeblock_update_Q_df)\n",
    "\n",
    "pl.add(q_val_pipeline)\n",
    "\n"
   ]
  },
  {
   "cell_type": "code",
   "execution_count": 20,
   "metadata": {},
   "outputs": [
    {
     "name": "stdout",
     "output_type": "stream",
     "text": [
      "[<backend.FunctionModule object at 0x7f867ea9aa58>, <backend.FunctionModule object at 0x7f867ea9a940>, <backend.FunctionModule object at 0x7f867ea9a710>, <backend.FunctionModule object at 0x7f867ea9a518>, <backend.FunctionModule object at 0x7f867ea9a470>, <backend.FunctionModule object at 0x7f867ea9a390>, <backend.FunctionModule object at 0x7f867ea9a320>, <backend.FunctionModule object at 0x7f867ea9aef0>, <backend.FunctionModule object at 0x7f867ea9a438>, <backend.PipelineModule object at 0x7f867eab2c88>]\n"
     ]
    }
   ],
   "source": [
    "print(pl.modulelist)"
   ]
  },
  {
   "cell_type": "code",
   "execution_count": 21,
   "metadata": {},
   "outputs": [
    {
     "name": "stdout",
     "output_type": "stream",
     "text": [
      "\u001b[2m\u001b[36m(pid=3997292)\u001b[0m update chosen action\n",
      "\u001b[2m\u001b[36m(pid=3997292)\u001b[0m In update_Q_df\n"
     ]
    }
   ],
   "source": [
    "environment = {\n",
    "    'params': None, \n",
    "    'pops': None,\n",
    "    'receps' : None, \n",
    "    'base' : None,\n",
    "    'dpmns' : None,\n",
    "    'd1' : None,\n",
    "    'd2' : None,\n",
    "    #'channels' : pd.DataFrame([[1],[2],[3]], columns=['action']),\n",
    "    'actionchannels' : pd.DataFrame([[1],[2],[3]], columns=['action']),\n",
    "    'newpathways' : None,\n",
    "    'Q_support_params': None,\n",
    "    'Q_df':None,\n",
    "    \n",
    "}\n",
    "results = cbgt.ExecutionManager(cores=7).run(pl,environment) "
   ]
  },
  {
   "cell_type": "code",
   "execution_count": 22,
   "metadata": {},
   "outputs": [
    {
     "name": "stdout",
     "output_type": "stream",
     "text": [
      "{'params': None, 'pops': None, 'receps': None, 'base': None, 'dpmns': None, 'd1': None, 'd2': None, 'actionchannels':    action\n",
      "0       1\n",
      "1       2\n",
      "2       3, 'newpathways': None, 'Q_support_params':    bayes_unif_min  bayes_unif_max  bayes_H  bayes_sF  q_alpha  dpmn_CPP_scale  \\\n",
      "0             0.0             2.0     0.05      1.25     0.45            15.0   \n",
      "\n",
      "   reward_value  chosen_action  \n",
      "0            -1              2  , 'Q_df':    Q_val  action\n",
      "0  0.500       1\n",
      "1 -0.175       2\n",
      "2  0.500       3, 'celldefaults':      N     C Taum RestPot ResetPot Threshold RestPot_ca Alpha_ca Tau_ca  \\\n",
      "0  75`  0.5`  20`    -70`     -55`      -50`       -85`     0.5`    80`   \n",
      "\n",
      "  Eff_ca  ... g_adr_max Vadr_h Vadr_s ADRRevPot g_k_max  Vk_h  Vk_s tau_k_max  \\\n",
      "0   0.0`  ...        0`  -100`    10`      -90`      0`  -34`  6.5`        8`   \n",
      "\n",
      "  n_k   h  \n",
      "0  0`  1`  \n",
      "\n",
      "[1 rows x 25 columns], 'popspecific': {'LIP': {'N': [204]}, 'FSI': {'C': [0.2], 'Taum': [10]}, 'GPeP': {'N': [750], 'g_T': [0.06], 'Taum': [20]}, 'STNE': {'N': [750], 'g_T': [0.06]}, 'LIPI': {'N': [186], 'C': [0.2], 'Taum': [10]}, 'Th': {'Taum': [27.78]}}, 'receptordefaults':   Tau_AMPA RevPot_AMPA Tau_GABA RevPot_GABA Tau_NMDA RevPot_NMDA\n",
      "0       2`          0`       5`        -70`     100`          0`, 'basestim': {'FSI': {'FreqExt_AMPA': [3.6], 'MeanExtEff_AMPA': [1.55], 'MeanExtCon_AMPA': [800]}, 'LIPI': {'FreqExt_AMPA': [1.05], 'MeanExtEff_AMPA': [1.2], 'MeanExtCon_AMPA': [640]}, 'GPi': {'FreqExt_AMPA': [0.8], 'MeanExtEff_AMPA': [5.9], 'MeanExtCon_AMPA': [800]}, 'STNE': {'FreqExt_AMPA': [4.45], 'MeanExtEff_AMPA': [1.65], 'MeanExtCon_AMPA': [800]}, 'GPeP': {'FreqExt_AMPA': [4], 'MeanExtEff_AMPA': [2], 'MeanExtCon_AMPA': [800], 'FreqExt_GABA': [2], 'MeanExtEff_GABA': [2], 'MeanExtCon_GABA': [2000]}, 'D1STR': {'FreqExt_AMPA': [1.3], 'MeanExtEff_AMPA': [4], 'MeanExtCon_AMPA': [800]}, 'D2STR': {'FreqExt_AMPA': [1.3], 'MeanExtEff_AMPA': [4], 'MeanExtCon_AMPA': [800]}, 'LIP': {'FreqExt_AMPA': [2.2], 'MeanExtEff_AMPA': [2], 'MeanExtCon_AMPA': [800]}, 'Th': {'FreqExt_AMPA': [2.2], 'MeanExtEff_AMPA': [2.5], 'MeanExtCon_AMPA': [800]}}, 'dpmndefaults':   dpmn_tauDOP dpmn_alpha dpmn_DAt dpmn_taum dpmn_dPRE dpmn_dPOST dpmn_tauE  \\\n",
      "0          2`       0.3`     0.0`   1e+100`      0.8`      0.04`       15`   \n",
      "\n",
      "  dpmn_tauPRE dpmn_tauPOST dpmn_wmax   dpmn_w dpmn_Q1 dpmn_Q2 dpmn_m dpmn_E  \\\n",
      "0         15`           6`      0.3`  0.1286`    0.0`    0.0`   1.0`   0.0`   \n",
      "\n",
      "   dpmn_DAp dpmn_APRE dpmn_APOST dpmn_XPRE dpmn_XPOST  \n",
      "0      -0.0      0.0`       0.0`      0.0`       0.0`  , 'd1defaults':   dpmn_type          dpmn_alphaw dpmn_a dpmn_b dpmn_c\n",
      "0        1`  18.333333333333332`   1.0`   0.1`  0.05`, 'd2defaults':   dpmn_type dpmn_alphaw dpmn_a  dpmn_b dpmn_c\n",
      "0        2`      -15.0`   0.5`  0.005`  0.05`, 'popdata':       name action     N     C    Taum RestPot ResetPot Threshold RestPot_ca  \\\n",
      "0     GPi`     1`   75`  0.5`     20`    -70`     -55`      -50`       -85`   \n",
      "1     GPi`     2`   75`  0.5`     20`    -70`     -55`      -50`       -85`   \n",
      "2     GPi`     3`   75`  0.5`     20`    -70`     -55`      -50`       -85`   \n",
      "3    STNE`     1`  750`  0.5`     20`    -70`     -55`      -50`       -85`   \n",
      "4    STNE`     2`  750`  0.5`     20`    -70`     -55`      -50`       -85`   \n",
      "5    STNE`     3`  750`  0.5`     20`    -70`     -55`      -50`       -85`   \n",
      "6    GPeP`     1`  750`  0.5`     20`    -70`     -55`      -50`       -85`   \n",
      "7    GPeP`     2`  750`  0.5`     20`    -70`     -55`      -50`       -85`   \n",
      "8    GPeP`     3`  750`  0.5`     20`    -70`     -55`      -50`       -85`   \n",
      "9   D1STR`     1`   75`  0.5`     20`    -70`     -55`      -50`       -85`   \n",
      "10  D1STR`     2`   75`  0.5`     20`    -70`     -55`      -50`       -85`   \n",
      "11  D1STR`     3`   75`  0.5`     20`    -70`     -55`      -50`       -85`   \n",
      "12  D2STR`     1`   75`  0.5`     20`    -70`     -55`      -50`       -85`   \n",
      "13  D2STR`     2`   75`  0.5`     20`    -70`     -55`      -50`       -85`   \n",
      "14  D2STR`     3`   75`  0.5`     20`    -70`     -55`      -50`       -85`   \n",
      "15    LIP`     1`  204`  0.5`     20`    -70`     -55`      -50`       -85`   \n",
      "16    LIP`     2`  204`  0.5`     20`    -70`     -55`      -50`       -85`   \n",
      "17    LIP`     3`  204`  0.5`     20`    -70`     -55`      -50`       -85`   \n",
      "18     Th`     1`   75`  0.5`  27.78`    -70`     -55`      -50`       -85`   \n",
      "19     Th`     2`   75`  0.5`  27.78`    -70`     -55`      -50`       -85`   \n",
      "20     Th`     3`   75`  0.5`  27.78`    -70`     -55`      -50`       -85`   \n",
      "21    FSI`   nan`   75`  0.2`     10`    -70`     -55`      -50`       -85`   \n",
      "22   LIPI`   nan`  186`  0.2`     10`    -70`     -55`      -50`       -85`   \n",
      "\n",
      "   Alpha_ca  ... dpmn_DAp dpmn_APRE dpmn_APOST dpmn_XPRE dpmn_XPOST dpmn_type  \\\n",
      "0      0.5`  ...     nan`      nan`       nan`      nan`       nan`      nan`   \n",
      "1      0.5`  ...     nan`      nan`       nan`      nan`       nan`      nan`   \n",
      "2      0.5`  ...     nan`      nan`       nan`      nan`       nan`      nan`   \n",
      "3      0.5`  ...     nan`      nan`       nan`      nan`       nan`      nan`   \n",
      "4      0.5`  ...     nan`      nan`       nan`      nan`       nan`      nan`   \n",
      "5      0.5`  ...     nan`      nan`       nan`      nan`       nan`      nan`   \n",
      "6      0.5`  ...     nan`      nan`       nan`      nan`       nan`      nan`   \n",
      "7      0.5`  ...     nan`      nan`       nan`      nan`       nan`      nan`   \n",
      "8      0.5`  ...     nan`      nan`       nan`      nan`       nan`      nan`   \n",
      "9      0.5`  ...     0.0`      0.0`       0.0`      0.0`       0.0`        1`   \n",
      "10     0.5`  ...     0.0`      0.0`       0.0`      0.0`       0.0`        1`   \n",
      "11     0.5`  ...     0.0`      0.0`       0.0`      0.0`       0.0`        1`   \n",
      "12     0.5`  ...     0.0`      0.0`       0.0`      0.0`       0.0`        2`   \n",
      "13     0.5`  ...     0.0`      0.0`       0.0`      0.0`       0.0`        2`   \n",
      "14     0.5`  ...     0.0`      0.0`       0.0`      0.0`       0.0`        2`   \n",
      "15     0.5`  ...     nan`      nan`       nan`      nan`       nan`      nan`   \n",
      "16     0.5`  ...     nan`      nan`       nan`      nan`       nan`      nan`   \n",
      "17     0.5`  ...     nan`      nan`       nan`      nan`       nan`      nan`   \n",
      "18     0.5`  ...     nan`      nan`       nan`      nan`       nan`      nan`   \n",
      "19     0.5`  ...     nan`      nan`       nan`      nan`       nan`      nan`   \n",
      "20     0.5`  ...     nan`      nan`       nan`      nan`       nan`      nan`   \n",
      "21     0.5`  ...     nan`      nan`       nan`      nan`       nan`      nan`   \n",
      "22     0.5`  ...     nan`      nan`       nan`      nan`       nan`      nan`   \n",
      "\n",
      "            dpmn_alphaw dpmn_a  dpmn_b dpmn_c  \n",
      "0                  nan`   nan`    nan`   nan`  \n",
      "1                  nan`   nan`    nan`   nan`  \n",
      "2                  nan`   nan`    nan`   nan`  \n",
      "3                  nan`   nan`    nan`   nan`  \n",
      "4                  nan`   nan`    nan`   nan`  \n",
      "5                  nan`   nan`    nan`   nan`  \n",
      "6                  nan`   nan`    nan`   nan`  \n",
      "7                  nan`   nan`    nan`   nan`  \n",
      "8                  nan`   nan`    nan`   nan`  \n",
      "9   18.333333333333332`   1.0`    0.1`  0.05`  \n",
      "10  18.333333333333332`   1.0`    0.1`  0.05`  \n",
      "11  18.333333333333332`   1.0`    0.1`  0.05`  \n",
      "12               -15.0`   0.5`  0.005`  0.05`  \n",
      "13               -15.0`   0.5`  0.005`  0.05`  \n",
      "14               -15.0`   0.5`  0.005`  0.05`  \n",
      "15                 nan`   nan`    nan`   nan`  \n",
      "16                 nan`   nan`    nan`   nan`  \n",
      "17                 nan`   nan`    nan`   nan`  \n",
      "18                 nan`   nan`    nan`   nan`  \n",
      "19                 nan`   nan`    nan`   nan`  \n",
      "20                 nan`   nan`    nan`   nan`  \n",
      "21                 nan`   nan`    nan`   nan`  \n",
      "22                 nan`   nan`    nan`   nan`  \n",
      "\n",
      "[23 rows x 64 columns], 'pathways':        src    dest receptor  type        con        eff  \\\n",
      "0     LIP`  D1STR`    AMPA`  syn`       1.0`     0.027`   \n",
      "1     LIP`  D1STR`    NMDA`  syn`       1.0`     0.027`   \n",
      "2     LIP`  D2STR`    AMPA`  syn`       1.0`     0.027`   \n",
      "3     LIP`  D2STR`    NMDA`  syn`       1.0`     0.027`   \n",
      "4     LIP`    FSI`    AMPA`  all`       1.0`     0.198`   \n",
      "5     LIP`     Th`    AMPA`  all`       1.0`     0.035`   \n",
      "6     LIP`     Th`    NMDA`  all`       1.0`     0.035`   \n",
      "7   D1STR`  D1STR`    GABA`  syn`      0.45`      0.28`   \n",
      "8   D1STR`  D2STR`    GABA`  syn`      0.45`      0.28`   \n",
      "9   D1STR`    GPi`    GABA`  syn`       1.0`      2.09`   \n",
      "10  D2STR`  D2STR`    GABA`  syn`      0.45`      0.28`   \n",
      "11  D2STR`  D1STR`    GABA`  syn`       0.5`      0.28`   \n",
      "12  D2STR`   GPeP`    GABA`  syn`       1.0`      4.07`   \n",
      "13    FSI`    FSI`    GABA`  all`       1.0`   3.25833`   \n",
      "14    FSI`  D1STR`    GABA`  all`       1.0`    1.7776`   \n",
      "15    FSI`  D2STR`    GABA`  all`       1.0`  1.669867`   \n",
      "16   GPeP`   GPeP`    GABA`  all`    0.0667`      1.75`   \n",
      "17   GPeP`   STNE`    GABA`  syn`    0.0667`      0.35`   \n",
      "18   GPeP`    GPi`    GABA`  syn`       1.0`      0.06`   \n",
      "19   STNE`   GPeP`    AMPA`  syn`  0.161668`      0.07`   \n",
      "20   STNE`   GPeP`    NMDA`  syn`  0.161668`      1.51`   \n",
      "21   STNE`    GPi`    NMDA`  all`       1.0`     0.038`   \n",
      "22    GPi`     Th`    GABA`  syn`       1.0`    0.3315`   \n",
      "23     Th`  D1STR`    AMPA`  syn`       1.0`    0.3825`   \n",
      "24     Th`  D2STR`    AMPA`  syn`       1.0`    0.3825`   \n",
      "25     Th`    FSI`    AMPA`  all`    0.8334`       0.1`   \n",
      "26     Th`    LIP`    NMDA`  all`    0.8334`      0.03`   \n",
      "27    LIP`    LIP`    AMPA`  all`    0.4335`    0.0127`   \n",
      "28    LIP`    LIP`    NMDA`  all`    0.4335`      0.15`   \n",
      "29    LIP`   LIPI`    AMPA`  all`  0.241667`     0.113`   \n",
      "30    LIP`   LIPI`    NMDA`  all`  0.241667`     0.525`   \n",
      "31   LIPI`    LIP`    GABA`  all`       1.0`      1.75`   \n",
      "32   LIPI`   LIPI`    GABA`  all`       1.0`   3.58335`   \n",
      "33     Th`   LIPI`    NMDA`  all`    0.8334`     0.015`   \n",
      "\n",
      "                                           biselector  \n",
      "0   <function MatchBiselector.<locals>.Biselector ...  \n",
      "1   <function MatchBiselector.<locals>.Biselector ...  \n",
      "2   <function MatchBiselector.<locals>.Biselector ...  \n",
      "3   <function MatchBiselector.<locals>.Biselector ...  \n",
      "4   <function MatchBiselector.<locals>.Biselector ...  \n",
      "5   <function MatchBiselector.<locals>.Biselector ...  \n",
      "6   <function MatchBiselector.<locals>.Biselector ...  \n",
      "7   <function MatchBiselector.<locals>.Biselector ...  \n",
      "8   <function MatchBiselector.<locals>.Biselector ...  \n",
      "9   <function MatchBiselector.<locals>.Biselector ...  \n",
      "10  <function MatchBiselector.<locals>.Biselector ...  \n",
      "11  <function MatchBiselector.<locals>.Biselector ...  \n",
      "12  <function MatchBiselector.<locals>.Biselector ...  \n",
      "13  <function MatchBiselector.<locals>.Biselector ...  \n",
      "14  <function MatchBiselector.<locals>.Biselector ...  \n",
      "15  <function MatchBiselector.<locals>.Biselector ...  \n",
      "16  <function MatchBiselector.<locals>.Biselector ...  \n",
      "17  <function MatchBiselector.<locals>.Biselector ...  \n",
      "18  <function MatchBiselector.<locals>.Biselector ...  \n",
      "19  <function MatchBiselector.<locals>.Biselector ...  \n",
      "20  <function MatchBiselector.<locals>.Biselector ...  \n",
      "21  <function MatchBiselector.<locals>.Biselector ...  \n",
      "22  <function MatchBiselector.<locals>.Biselector ...  \n",
      "23  <function MatchBiselector.<locals>.Biselector ...  \n",
      "24  <function MatchBiselector.<locals>.Biselector ...  \n",
      "25  <function MatchBiselector.<locals>.Biselector ...  \n",
      "26  <function MatchBiselector.<locals>.Biselector ...  \n",
      "27  <function MatchBiselector.<locals>.Biselector ...  \n",
      "28  <function MatchBiselector.<locals>.Biselector ...  \n",
      "29  <function MatchBiselector.<locals>.Biselector ...  \n",
      "30  <function MatchBiselector.<locals>.Biselector ...  \n",
      "31  <function MatchBiselector.<locals>.Biselector ...  \n",
      "32  <function MatchBiselector.<locals>.Biselector ...  \n",
      "33  <function MatchBiselector.<locals>.Biselector ...  , 'chosen_action':   bayes_unif_min bayes_unif_max bayes_H bayes_sF q_alpha dpmn_CPP_scale  \\\n",
      "0           0.0`           2.0`   0.05`    1.25`   0.45`          15.0`   \n",
      "\n",
      "  reward_value  chosen_action  \n",
      "0          -1`              2  }\n"
     ]
    }
   ],
   "source": [
    "print(results)"
   ]
  },
  {
   "cell_type": "code",
   "execution_count": 23,
   "metadata": {},
   "outputs": [
    {
     "data": {
      "text/plain": [
       "dict_keys(['params', 'pops', 'receps', 'base', 'dpmns', 'd1', 'd2', 'actionchannels', 'newpathways', 'Q_support_params', 'Q_df', 'celldefaults', 'popspecific', 'receptordefaults', 'basestim', 'dpmndefaults', 'd1defaults', 'd2defaults', 'popdata', 'pathways', 'chosen_action'])"
      ]
     },
     "execution_count": 23,
     "metadata": {},
     "output_type": "execute_result"
    }
   ],
   "source": [
    "results.keys()"
   ]
  },
  {
   "cell_type": "code",
   "execution_count": 24,
   "metadata": {},
   "outputs": [
    {
     "data": {
      "text/html": [
       "<div>\n",
       "<style scoped>\n",
       "    .dataframe tbody tr th:only-of-type {\n",
       "        vertical-align: middle;\n",
       "    }\n",
       "\n",
       "    .dataframe tbody tr th {\n",
       "        vertical-align: top;\n",
       "    }\n",
       "\n",
       "    .dataframe thead th {\n",
       "        text-align: right;\n",
       "    }\n",
       "</style>\n",
       "<table border=\"1\" class=\"dataframe\">\n",
       "  <thead>\n",
       "    <tr style=\"text-align: right;\">\n",
       "      <th></th>\n",
       "      <th>action</th>\n",
       "    </tr>\n",
       "  </thead>\n",
       "  <tbody>\n",
       "    <tr>\n",
       "      <th>0</th>\n",
       "      <td>1</td>\n",
       "    </tr>\n",
       "    <tr>\n",
       "      <th>1</th>\n",
       "      <td>2</td>\n",
       "    </tr>\n",
       "    <tr>\n",
       "      <th>2</th>\n",
       "      <td>3</td>\n",
       "    </tr>\n",
       "  </tbody>\n",
       "</table>\n",
       "</div>"
      ],
      "text/plain": [
       "   action\n",
       "0       1\n",
       "1       2\n",
       "2       3"
      ]
     },
     "execution_count": 24,
     "metadata": {},
     "output_type": "execute_result"
    }
   ],
   "source": [
    "results['actionchannels']"
   ]
  },
  {
   "cell_type": "code",
   "execution_count": 25,
   "metadata": {},
   "outputs": [
    {
     "data": {
      "text/html": [
       "<div>\n",
       "<style scoped>\n",
       "    .dataframe tbody tr th:only-of-type {\n",
       "        vertical-align: middle;\n",
       "    }\n",
       "\n",
       "    .dataframe tbody tr th {\n",
       "        vertical-align: top;\n",
       "    }\n",
       "\n",
       "    .dataframe thead th {\n",
       "        text-align: right;\n",
       "    }\n",
       "</style>\n",
       "<table border=\"1\" class=\"dataframe\">\n",
       "  <thead>\n",
       "    <tr style=\"text-align: right;\">\n",
       "      <th></th>\n",
       "      <th>action</th>\n",
       "    </tr>\n",
       "  </thead>\n",
       "  <tbody>\n",
       "    <tr>\n",
       "      <th>0</th>\n",
       "      <td>1</td>\n",
       "    </tr>\n",
       "    <tr>\n",
       "      <th>1</th>\n",
       "      <td>2</td>\n",
       "    </tr>\n",
       "    <tr>\n",
       "      <th>2</th>\n",
       "      <td>3</td>\n",
       "    </tr>\n",
       "  </tbody>\n",
       "</table>\n",
       "</div>"
      ],
      "text/plain": [
       "   action\n",
       "0       1\n",
       "1       2\n",
       "2       3"
      ]
     },
     "execution_count": 25,
     "metadata": {},
     "output_type": "execute_result"
    }
   ],
   "source": [
    "results[\"actionchannels\"]"
   ]
  },
  {
   "cell_type": "code",
   "execution_count": 26,
   "metadata": {},
   "outputs": [
    {
     "data": {
      "text/html": [
       "<div>\n",
       "<style scoped>\n",
       "    .dataframe tbody tr th:only-of-type {\n",
       "        vertical-align: middle;\n",
       "    }\n",
       "\n",
       "    .dataframe tbody tr th {\n",
       "        vertical-align: top;\n",
       "    }\n",
       "\n",
       "    .dataframe thead th {\n",
       "        text-align: right;\n",
       "    }\n",
       "</style>\n",
       "<table border=\"1\" class=\"dataframe\">\n",
       "  <thead>\n",
       "    <tr style=\"text-align: right;\">\n",
       "      <th></th>\n",
       "      <th>Q_val</th>\n",
       "      <th>action</th>\n",
       "    </tr>\n",
       "  </thead>\n",
       "  <tbody>\n",
       "    <tr>\n",
       "      <th>0</th>\n",
       "      <td>0.500</td>\n",
       "      <td>1</td>\n",
       "    </tr>\n",
       "    <tr>\n",
       "      <th>1</th>\n",
       "      <td>-0.175</td>\n",
       "      <td>2</td>\n",
       "    </tr>\n",
       "    <tr>\n",
       "      <th>2</th>\n",
       "      <td>0.500</td>\n",
       "      <td>3</td>\n",
       "    </tr>\n",
       "  </tbody>\n",
       "</table>\n",
       "</div>"
      ],
      "text/plain": [
       "   Q_val  action\n",
       "0  0.500       1\n",
       "1 -0.175       2\n",
       "2  0.500       3"
      ]
     },
     "execution_count": 26,
     "metadata": {},
     "output_type": "execute_result"
    }
   ],
   "source": [
    "results[\"Q_df\"]"
   ]
  },
  {
   "cell_type": "code",
   "execution_count": 27,
   "metadata": {},
   "outputs": [
    {
     "data": {
      "text/html": [
       "<div>\n",
       "<style scoped>\n",
       "    .dataframe tbody tr th:only-of-type {\n",
       "        vertical-align: middle;\n",
       "    }\n",
       "\n",
       "    .dataframe tbody tr th {\n",
       "        vertical-align: top;\n",
       "    }\n",
       "\n",
       "    .dataframe thead th {\n",
       "        text-align: right;\n",
       "    }\n",
       "</style>\n",
       "<table border=\"1\" class=\"dataframe\">\n",
       "  <thead>\n",
       "    <tr style=\"text-align: right;\">\n",
       "      <th></th>\n",
       "      <th>action</th>\n",
       "    </tr>\n",
       "  </thead>\n",
       "  <tbody>\n",
       "    <tr>\n",
       "      <th>0</th>\n",
       "      <td>{}</td>\n",
       "    </tr>\n",
       "    <tr>\n",
       "      <th>1</th>\n",
       "      <td>{}</td>\n",
       "    </tr>\n",
       "    <tr>\n",
       "      <th>2</th>\n",
       "      <td>{}</td>\n",
       "    </tr>\n",
       "  </tbody>\n",
       "</table>\n",
       "</div>"
      ],
      "text/plain": [
       "  action\n",
       "0     {}\n",
       "1     {}\n",
       "2     {}"
      ]
     },
     "execution_count": 27,
     "metadata": {},
     "output_type": "execute_result"
    }
   ],
   "source": [
    "gettrace(results[\"actionchannels\"])"
   ]
  },
  {
   "cell_type": "code",
   "execution_count": 28,
   "metadata": {},
   "outputs": [],
   "source": [
    "locals().update(results)"
   ]
  },
  {
   "cell_type": "code",
   "execution_count": 29,
   "metadata": {},
   "outputs": [
    {
     "data": {
      "text/html": [
       "<div>\n",
       "<style scoped>\n",
       "    .dataframe tbody tr th:only-of-type {\n",
       "        vertical-align: middle;\n",
       "    }\n",
       "\n",
       "    .dataframe tbody tr th {\n",
       "        vertical-align: top;\n",
       "    }\n",
       "\n",
       "    .dataframe thead th {\n",
       "        text-align: right;\n",
       "    }\n",
       "</style>\n",
       "<table border=\"1\" class=\"dataframe\">\n",
       "  <thead>\n",
       "    <tr style=\"text-align: right;\">\n",
       "      <th></th>\n",
       "      <th>action</th>\n",
       "    </tr>\n",
       "  </thead>\n",
       "  <tbody>\n",
       "    <tr>\n",
       "      <th>0</th>\n",
       "      <td>1</td>\n",
       "    </tr>\n",
       "    <tr>\n",
       "      <th>1</th>\n",
       "      <td>2</td>\n",
       "    </tr>\n",
       "    <tr>\n",
       "      <th>2</th>\n",
       "      <td>3</td>\n",
       "    </tr>\n",
       "  </tbody>\n",
       "</table>\n",
       "</div>"
      ],
      "text/plain": [
       "   action\n",
       "0       1\n",
       "1       2\n",
       "2       3"
      ]
     },
     "execution_count": 29,
     "metadata": {},
     "output_type": "execute_result"
    }
   ],
   "source": [
    "actionchannels"
   ]
  },
  {
   "cell_type": "code",
   "execution_count": null,
   "metadata": {},
   "outputs": [],
   "source": []
  },
  {
   "cell_type": "code",
   "execution_count": null,
   "metadata": {},
   "outputs": [],
   "source": []
  }
 ],
 "metadata": {
  "kernelspec": {
   "display_name": "Python 3",
   "language": "python",
   "name": "python3"
  },
  "language_info": {
   "codemirror_mode": {
    "name": "ipython",
    "version": 3
   },
   "file_extension": ".py",
   "mimetype": "text/x-python",
   "name": "python",
   "nbconvert_exporter": "python",
   "pygments_lexer": "ipython3",
   "version": "3.6.10"
  }
 },
 "nbformat": 4,
 "nbformat_minor": 4
}
