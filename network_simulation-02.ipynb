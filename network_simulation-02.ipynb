{
 "cells": [
  {
   "cell_type": "markdown",
   "metadata": {},
   "source": [
    "### To run the cbgt network, see first the technical_testbench to install all the required packages and start the server "
   ]
  },
  {
   "cell_type": "code",
   "execution_count": 1,
   "metadata": {},
   "outputs": [],
   "source": [
    "#Auto reloading \n",
    "%load_ext autoreload\n",
    "%autoreload 2\n",
    "%reload_ext autoreload "
   ]
  },
  {
   "cell_type": "code",
   "execution_count": null,
   "metadata": {},
   "outputs": [],
   "source": [
    "#Removing indentation issues:\n",
    "!autopep8 --in-place --aggressive --aggressive init_params.py\n",
    "!autopep8 --in-place --aggressive --aggressive popconstruct.py\n",
    "!autopep8 --in-place --aggressive --aggressive generateepochs.py\n",
    "!autopep8 --in-place --aggressive --aggressive qvalues.py"
   ]
  },
  {
   "cell_type": "code",
   "execution_count": 2,
   "metadata": {},
   "outputs": [
    {
     "name": "stdout",
     "output_type": "stream",
     "text": [
      "Compiling agent_timestep.pyx because it changed.\n",
      "[1/1] Cythonizing agent_timestep.pyx\n",
      "running build_ext\n",
      "building 'agent_timestep' extension\n",
      "C:\\Program Files (x86)\\Microsoft Visual Studio\\2019\\Community\\VC\\Tools\\MSVC\\14.29.30133\\bin\\HostX86\\x64\\cl.exe /c /nologo /Ox /W3 /GL /DNDEBUG /MD -IC:\\Users\\mclapp\\anaconda3\\envs\\cbgt\\include -IC:\\Users\\mclapp\\anaconda3\\envs\\cbgt\\include \"-IC:\\Program Files (x86)\\Microsoft Visual Studio\\2019\\Community\\VC\\Tools\\MSVC\\14.29.30133\\ATLMFC\\include\" \"-IC:\\Program Files (x86)\\Microsoft Visual Studio\\2019\\Community\\VC\\Tools\\MSVC\\14.29.30133\\include\" \"-IC:\\Program Files (x86)\\Windows Kits\\10\\include\\10.0.19041.0\\ucrt\" \"-IC:\\Program Files (x86)\\Windows Kits\\10\\include\\10.0.19041.0\\shared\" \"-IC:\\Program Files (x86)\\Windows Kits\\10\\include\\10.0.19041.0\\um\" \"-IC:\\Program Files (x86)\\Windows Kits\\10\\include\\10.0.19041.0\\winrt\" \"-IC:\\Program Files (x86)\\Windows Kits\\10\\include\\10.0.19041.0\\cppwinrt\" /Tcagent_timestep.c /Fobuild\\temp.win-amd64-3.8\\Release\\agent_timestep.obj\n",
      "agent_timestep.c\n",
      "C:\\Program Files (x86)\\Microsoft Visual Studio\\2019\\Community\\VC\\Tools\\MSVC\\14.29.30133\\bin\\HostX86\\x64\\link.exe /nologo /INCREMENTAL:NO /LTCG /DLL /MANIFEST:EMBED,ID=2 /MANIFESTUAC:NO /LIBPATH:C:\\Users\\mclapp\\anaconda3\\envs\\cbgt\\libs /LIBPATH:C:\\Users\\mclapp\\anaconda3\\envs\\cbgt\\PCbuild\\amd64 \"/LIBPATH:C:\\Program Files (x86)\\Microsoft Visual Studio\\2019\\Community\\VC\\Tools\\MSVC\\14.29.30133\\ATLMFC\\lib\\x64\" \"/LIBPATH:C:\\Program Files (x86)\\Microsoft Visual Studio\\2019\\Community\\VC\\Tools\\MSVC\\14.29.30133\\lib\\x64\" \"/LIBPATH:C:\\Program Files (x86)\\Windows Kits\\10\\lib\\10.0.19041.0\\ucrt\\x64\" \"/LIBPATH:C:\\Program Files (x86)\\Windows Kits\\10\\lib\\10.0.19041.0\\um\\x64\" /EXPORT:PyInit_agent_timestep build\\temp.win-amd64-3.8\\Release\\agent_timestep.obj /OUT:build\\lib.win-amd64-3.8\\agent_timestep.cp38-win_amd64.pyd /IMPLIB:build\\temp.win-amd64-3.8\\Release\\agent_timestep.cp38-win_amd64.lib\n",
      "   Creating library build\\temp.win-amd64-3.8\\Release\\agent_timestep.cp38-win_amd64.lib and object build\\temp.win-amd64-3.8\\Release\\agent_timestep.cp38-win_amd64.exp\n",
      "Generating code\n",
      "Finished generating code\n",
      "copying build\\lib.win-amd64-3.8\\agent_timestep.cp38-win_amd64.pyd -> \n"
     ]
    },
    {
     "name": "stderr",
     "output_type": "stream",
     "text": [
      "C:\\Users\\mclapp\\anaconda3\\envs\\cbgt\\lib\\site-packages\\Cython\\Compiler\\Main.py:369: FutureWarning: Cython directive 'language_level' not set, using 2 for now (Py2). This will change in a later release! File: C:\\Users\\mclapp\\Downloads\\cbgt-final\\agent_timestep.pyx\n",
      "  tree = Parsing.p_module(s, pxd, full_module_name)\n"
     ]
    }
   ],
   "source": [
    "!python setup.py build_ext --inplace"
   ]
  },
  {
   "cell_type": "code",
   "execution_count": 2,
   "metadata": {},
   "outputs": [
    {
     "name": "stderr",
     "output_type": "stream",
     "text": [
      "2021-08-25 09:18:28,706\tINFO worker.py:800 -- Connecting to existing Ray cluster at address: 192.168.1.201:6379\n"
     ]
    }
   ],
   "source": [
    "#Importing scripts:\n",
    "import cbgt as cbgt\n",
    "from frontendhelpers import * \n",
    "from tracetype import *\n",
    "import init_params as par \n",
    "import popconstruct as popconstruct\n",
    "import qvalues as qval\n",
    "import generateepochs as gen\n",
    "import pdb"
   ]
  },
  {
   "cell_type": "code",
   "execution_count": 3,
   "metadata": {},
   "outputs": [],
   "source": [
    "from agentmatrixinit import *"
   ]
  },
  {
   "cell_type": "code",
   "execution_count": 4,
   "metadata": {},
   "outputs": [],
   "source": [
    "from general_init_codeblocks import *"
   ]
  },
  {
   "cell_type": "code",
   "execution_count": 5,
   "metadata": {},
   "outputs": [],
   "source": [
    "from agent_timestep import timestep_mutator, multitimestep_mutator"
   ]
  },
  {
   "cell_type": "markdown",
   "metadata": {},
   "source": [
    "# Create pipelines"
   ]
  },
  {
   "cell_type": "markdown",
   "metadata": {},
   "source": [
    "### Reward pipeline"
   ]
  },
  {
   "cell_type": "code",
   "execution_count": 6,
   "metadata": {},
   "outputs": [],
   "source": [
    "rsg = cbgt.Pipeline() #rsg is short for 'reward schedule generator'\n",
    "\n",
    "\n",
    "(rsg.volatile_pattern,\n",
    " rsg.cp_idx,\n",
    " rsg.cp_indicator,\n",
    " rsg.noisy_pattern,\n",
    " rsg.t1_epochs,\n",
    " rsg.t2_epochs,\n",
    ") = rsg[gen.GenRewardSchedule](\n",
    "        rsg.n_trials,\n",
    "        rsg.volatility,\n",
    "        rsg.conflict,\n",
    "        rsg.reward_mu,\n",
    "        rsg.reward_std,\n",
    "    ).shape(6)"
   ]
  },
  {
   "cell_type": "markdown",
   "metadata": {},
   "source": [
    "### Network pipeline"
   ]
  },
  {
   "cell_type": "code",
   "execution_count": 7,
   "metadata": {},
   "outputs": [],
   "source": [
    "#Defining necessary codeblocks:\n",
    "\n",
    "#MODIFIERS:\n",
    "\n",
    "#init_params.py: to modify the neuronal default values\n",
    "\n",
    "def codeblock_modifycelldefaults(self):\n",
    "    self.celldefaults = par.helper_cellparams(self.params)\n",
    "\n",
    "def codeblock_modifypopspecific(self):\n",
    "    self.popspecific = par.helper_popspecific(self.pops)\n",
    "\n",
    "def codeblock_modifyreceptordefaults(self):\n",
    "    self.receptordefaults = par.helper_receptor(self.receps)\n",
    "\n",
    "def codeblock_modifybasestim(self):\n",
    "    self.basestim = par.helper_basestim(self.base)\n",
    "\n",
    "def codeblock_modifydpmndefaults(self):\n",
    "    self.dpmndefaults = par.helper_dpmn(self.dpmns)\n",
    "\n",
    "def codeblock_modifyd1defaults(self):\n",
    "    self.d1defaults = par.helper_d1(self.d1)\n",
    "\n",
    "def codeblock_modifyd2defaults(self):\n",
    "    self.d2defaults = par.helper_d2(self.d2)\n",
    "\n",
    "def codeblock_modifyactionchannels(self):\n",
    "    self.actionchannels = par.helper_actionchannels(self.channels)\n",
    "\n",
    "#popconstruct.py: to modify population parameters\n",
    "\n",
    "def codeblock_popconstruct(self):\n",
    "    self.popdata = popconstruct.helper_popconstruct(self.actionchannels, self.popspecific, self.celldefaults, self.receptordefaults, self.basestim, self.dpmndefaults, self.d1defaults, self.d2defaults)\n",
    "\n",
    "def codeblock_poppathways(self):\n",
    "    self.pathways = popconstruct.helper_poppathways(self.popdata, self.newpathways)\n",
    "\n",
    "#init_params.py: Q-values initialization and update\n",
    "\n",
    "def codeblock_init_Q_support_params(self):\n",
    "    self.Q_support_params = qval.helper_init_Q_support_params()\n",
    "\n",
    "def codeblock_update_Q_support_params(self,reward_val, chosen_action):\n",
    "    self.Q_support_params = qval.helper_update_Q_support_params(self.Q_support_params,self.reward_val,pl.chosen_action)\n",
    "\n",
    "def codeblock_init_Q_df(self):\n",
    "    self.Q_df = qval.helper_init_Q_df(self.channels)\n",
    "\n",
    "def codeblock_update_Q_df(self):\n",
    "    self.Q_df, self.Q_support_params, self.dpmndefaults = qval.helper_update_Q_df(self.Q_df, self.Q_support_params, self.dpmndefaults,pl.trial_num)\n"
   ]
  },
  {
   "cell_type": "code",
   "execution_count": 8,
   "metadata": {},
   "outputs": [],
   "source": [
    "pl = cbgt.Pipeline()"
   ]
  },
  {
   "cell_type": "code",
   "execution_count": 9,
   "metadata": {},
   "outputs": [
    {
     "data": {
      "text/plain": [
       "<backend.Pipeline at 0x26ba1666c40>"
      ]
     },
     "execution_count": 9,
     "metadata": {},
     "output_type": "execute_result"
    }
   ],
   "source": [
    "#Adding rsg pipeline to the network pipeline: \n",
    "pl.add(rsg) "
   ]
  },
  {
   "cell_type": "code",
   "execution_count": 10,
   "metadata": {},
   "outputs": [],
   "source": [
    "#to update the Q-values \n",
    "pl.trial_num = 0 #first row of Q-values df - initialization data \n",
    "pl.chosen_action = None # 2 #chosen action for the current trial"
   ]
  },
  {
   "cell_type": "code",
   "execution_count": 11,
   "metadata": {},
   "outputs": [],
   "source": [
    "#Defining necessary function modules: \n",
    "\n",
    "#init_params.py: default neuronal values \n",
    "pl.celldefaults = par.helper_cellparams()\n",
    "pl.popspecific = par.helper_popspecific()\n",
    "pl.receptordefaults = par.helper_receptor()\n",
    "pl.basestim = par.helper_basestim()\n",
    "pl.dpmndefaults = par.helper_dpmn()\n",
    "pl.d1defaults = par.helper_d1()\n",
    "pl.d2defaults = par.helper_d2()\n",
    "#pl.actionchannels = pl[par.helper_actionchannels]()\n",
    "\n",
    "#popconstruct.py: default population parameters \n",
    "pl.popdata = pl[popconstruct.helper_popconstruct](pl.actionchannels, pl.popspecific, pl.celldefaults, pl.receptordefaults, pl.basestim, pl.dpmndefaults, pl.d1defaults, pl.d2defaults)\n",
    "pl.pathways = pl[popconstruct.helper_poppathways](pl.popdata)\n",
    "\n",
    "#popconstruct.py: to create connectivity grids\n",
    "pl.connectivity_AMPA, pl.meaneff_AMPA, pl.plastic_AMPA = pl[popconstruct.helper_connectivity]('AMPA', pl.popdata, pl.pathways).shape(3)\n",
    "pl.connectivity_GABA, pl.meaneff_GABA, pl.plastic_GABA = pl[popconstruct.helper_connectivity]('GABA', pl.popdata, pl.pathways).shape(3)\n",
    "pl.connectivity_NMDA, pl.meaneff_NMDA, pl.plastic_NMDA = pl[popconstruct.helper_connectivity]('NMDA', pl.popdata, pl.pathways).shape(3)"
   ]
  },
  {
   "cell_type": "code",
   "execution_count": 12,
   "metadata": {},
   "outputs": [
    {
     "data": {
      "text/plain": [
       "<backend.Pipeline at 0x26ba1666c40>"
      ]
     },
     "execution_count": 12,
     "metadata": {},
     "output_type": "execute_result"
    }
   ],
   "source": [
    "#Adding codeblocks to the newtork pipeline: \n",
    "pl.add(codeblock_modifycelldefaults)\n",
    "pl.add(codeblock_modifypopspecific)\n",
    "pl.add(codeblock_modifyreceptordefaults)\n",
    "pl.add(codeblock_modifybasestim)\n",
    "pl.add(codeblock_modifydpmndefaults)\n",
    "pl.add(codeblock_modifyd1defaults)\n",
    "pl.add(codeblock_modifyd2defaults)\n",
    "pl.add(codeblock_modifyactionchannels)\n",
    "pl.add(codeblock_popconstruct)\n",
    "pl.add(codeblock_poppathways)"
   ]
  },
  {
   "cell_type": "markdown",
   "metadata": {},
   "source": [
    "### Q-values pipeline"
   ]
  },
  {
   "cell_type": "code",
   "execution_count": 13,
   "metadata": {},
   "outputs": [],
   "source": [
    "#Creating a new pipeline for Q-values: \n",
    "q_val_pipe = cbgt.Pipeline()"
   ]
  },
  {
   "cell_type": "code",
   "execution_count": 14,
   "metadata": {},
   "outputs": [],
   "source": [
    "#Defining necessary function modules: \n",
    "\n",
    "#qvalues.py\n",
    "q_val_pipe.Q_support_params = q_val_pipe[qval.helper_init_Q_support_params]()\n",
    "q_val_pipe.Q_df = q_val_pipe[qval.helper_init_Q_df](pl.actionchannels)\n",
    "\n",
    "#rsg.reward_val = q_val_pipe[qval.get_reward_value](rsg.t1_epochs,rsg.t2_epochs,pl.chosen_action,pl.trial_num) \n",
    "#q_val_pipe.Q_support_params = q_val_pipe[qval.helper_update_Q_support_params](q_val_pipe.Q_support_params,rsg.reward_val,pl.chosen_action)\n",
    "#(q_val_pipe.Q_df, q_val_pipe.Q_support_params, pl.dpmndefaults) = q_val_pipe[qval.helper_update_Q_df](q_val_pipe.Q_df,q_val_pipe.Q_support_params,pl.dpmndefaults,pl.trial_num).shape(3)"
   ]
  },
  {
   "cell_type": "code",
   "execution_count": 15,
   "metadata": {},
   "outputs": [
    {
     "data": {
      "text/plain": [
       "<backend.Pipeline at 0x26ba1666c40>"
      ]
     },
     "execution_count": 15,
     "metadata": {},
     "output_type": "execute_result"
    }
   ],
   "source": [
    "#Adding the q_val_pipe to the main network pipeline pl:\n",
    "pl.add(q_val_pipe)"
   ]
  },
  {
   "cell_type": "markdown",
   "metadata": {},
   "source": [
    "# Timestep loop"
   ]
  },
  {
   "cell_type": "code",
   "execution_count": 16,
   "metadata": {},
   "outputs": [],
   "source": [
    "def mega_loop(slf):\n",
    "    slf.AMPA_con,slf.AMPA_eff = CreateSynapses(slf.popdata,slf.connectivity_AMPA,slf.meaneff_AMPA,slf.plastic_AMPA)\n",
    "    slf.GABA_con,slf.GABA_eff = CreateSynapses(slf.popdata,slf.connectivity_GABA,slf.meaneff_GABA,slf.plastic_GABA)\n",
    "    slf.NMDA_con,slf.NMDA_eff = CreateSynapses(slf.popdata,slf.connectivity_NMDA,slf.meaneff_NMDA,slf.plastic_NMDA)\n",
    "\n",
    "    popdata = slf.popdata\n",
    "    actionchannels = slf.actionchannels\n",
    "    agent = initializeAgent(popdata)\n",
    "    slf.agent = agent\n",
    "\n",
    "    agent.AMPA_con,agent.AMPA_eff = slf.AMPA_con,slf.AMPA_eff\n",
    "    agent.GABA_con,agent.GABA_eff = slf.GABA_con,slf.GABA_eff\n",
    "    agent.NMDA_con,agent.NMDA_eff = slf.NMDA_con,slf.NMDA_eff\n",
    "    agent.LastConductanceNMDA = CreateAuxiliarySynapseData(popdata,slf.connectivity_NMDA)\n",
    "\n",
    "    agent.FRs = agent.rollingbuffer.mean(1) / untrace(list(popdata['N'])) / agent.dt * 1000\n",
    "\n",
    "    multitimestep_mutator(agent,popdata,1000)\n",
    "\n",
    "    agent.phase = 0\n",
    "    agent.phasetimer = 0\n",
    "    agent.motor_queued = None\n",
    "    agent.dpmn_queued = None\n",
    "    agent.gain = np.ones(len(actionchannels))\n",
    "    agent.extstim = np.zeros(len(actionchannels))\n",
    "    agent.ramping_extstim = np.zeros(len(actionchannels))\n",
    "    agent.in_popids = np.where(popdata['name'] == 'LIP')[0]\n",
    "    agent.out_popids = np.where(popdata['name'] == 'Th')[0]\n",
    "\n",
    "    presented_stimulus = 1\n",
    "    slf.chosen_action = None\n",
    "\n",
    "    while slf.trial_num < slf.n_trials:\n",
    "        agent.extstim = agent.gain * presented_stimulus * 4.0  # TODO: make 3.0 a param\n",
    "        agent.ramping_extstim = agent.ramping_extstim * 0.9 + agent.extstim * 0.1\n",
    "        for action_idx in range(len(actionchannels)):\n",
    "            popid = agent.in_popids[action_idx]\n",
    "            agent.FreqExt_AMPA[popid] = np.ones(len(agent.FreqExt_AMPA[popid])) * agent.ramping_extstim[action_idx]\n",
    "        multitimestep_mutator(agent,popdata,5)\n",
    "        agent.phasetimer += 1 # 1 ms = 5 * dt\n",
    "        #agent.FRs = np.stack((agent.FRs,agent.rollingbuffer.mean(1) / untrace(list(popdata['N'])) / agent.dt * 1000))\n",
    "\n",
    "        if agent.phase == 0:\n",
    "            gateFRs = agent.rollingbuffer[agent.out_popids].mean(1) / untrace(list(popdata['N'][agent.out_popids])) / agent.dt * 1000\n",
    "            thresholds_crossed = np.where(gateFRs > 30)[0]\n",
    "            if len(thresholds_crossed) > 0 or agent.phasetimer > 1000:\n",
    "                agent.phase = 1\n",
    "                agent.phasetimer = 0\n",
    "                agent.gain = np.zeros(len(actionchannels))\n",
    "                if len(thresholds_crossed) > 0:\n",
    "                    agent.motor_queued = thresholds_crossed[0]\n",
    "                    agent.gain[agent.motor_queued] = 0.5\n",
    "                else:\n",
    "                    agent.motor_queued = -1\n",
    "\n",
    "        if agent.phase == 1:\n",
    "            if agent.phasetimer > 100:\n",
    "                agent.phase = 2\n",
    "                agent.phasetimer = 0\n",
    "                agent.gain = np.zeros(len(actionchannels))\n",
    "                slf.chosen_action = untrace(actionchannels.iloc[agent.motor_queued,0])\n",
    "                agent.motor_queued = None\n",
    "\n",
    "        if agent.phase == 2:\n",
    "            if agent.phasetimer > 100:\n",
    "                slf.dpmndefaults['dpmn_DAp'] = 0\n",
    "                slf.trial_num += 1\n",
    "                agent.phase = 0\n",
    "                agent.phasetimer = 0\n",
    "\n",
    "\n",
    "        # environment\n",
    "\n",
    "        if slf.chosen_action is not None:\n",
    "            slf.reward_val = qval.get_reward_value(slf.t1_epochs,slf.t2_epochs,slf.chosen_action,slf.trial_num)\n",
    "            slf.Q_support_params = qval.helper_update_Q_support_params(slf.Q_support_params,slf.reward_val,slf.chosen_action)\n",
    "            (slf.Q_df, slf.Q_support_params, slf.dpmndefaults) = qval.helper_update_Q_df(slf.Q_df,slf.Q_support_params,slf.dpmndefaults,slf.trial_num)\n",
    "            slf.chosen_action = None"
   ]
  },
  {
   "cell_type": "code",
   "execution_count": 17,
   "metadata": {},
   "outputs": [
    {
     "data": {
      "text/plain": [
       "<backend.Pipeline at 0x26ba1666c40>"
      ]
     },
     "execution_count": 17,
     "metadata": {},
     "output_type": "execute_result"
    }
   ],
   "source": [
    "pl.add(mega_loop)"
   ]
  },
  {
   "cell_type": "markdown",
   "metadata": {},
   "source": [
    "# Running the pipeline"
   ]
  },
  {
   "cell_type": "markdown",
   "metadata": {},
   "source": [
    "### 1. Default values"
   ]
  },
  {
   "cell_type": "code",
   "execution_count": 18,
   "metadata": {},
   "outputs": [
    {
     "name": "stdout",
     "output_type": "stream",
     "text": [
      "\u001b[2m\u001b[36m(pid=23824)\u001b[0m 2 4 0.161668`\n",
      "\u001b[2m\u001b[36m(pid=23824)\u001b[0m 3 5 0.161668`\n",
      "\u001b[2m\u001b[36m(pid=23824)\u001b[0m 10 6 1.0`\n",
      "\u001b[2m\u001b[36m(pid=23824)\u001b[0m 10 8 1.0`\n",
      "\u001b[2m\u001b[36m(pid=23824)\u001b[0m 10 10 0.4335`\n",
      "\u001b[2m\u001b[36m(pid=23824)\u001b[0m 10 11 0.4335`\n",
      "\u001b[2m\u001b[36m(pid=23824)\u001b[0m 10 12 1.0`\n",
      "\u001b[2m\u001b[36m(pid=23824)\u001b[0m 10 13 1.0`\n",
      "\u001b[2m\u001b[36m(pid=23824)\u001b[0m 10 14 1.0`\n",
      "\u001b[2m\u001b[36m(pid=23824)\u001b[0m 10 15 0.241667`\n",
      "\u001b[2m\u001b[36m(pid=23824)\u001b[0m 11 7 1.0`\n",
      "\u001b[2m\u001b[36m(pid=23824)\u001b[0m 11 9 1.0`\n",
      "\u001b[2m\u001b[36m(pid=23824)\u001b[0m 11 10 0.4335`\n",
      "\u001b[2m\u001b[36m(pid=23824)\u001b[0m 11 11 0.4335`\n",
      "\u001b[2m\u001b[36m(pid=23824)\u001b[0m 11 12 1.0`\n",
      "\u001b[2m\u001b[36m(pid=23824)\u001b[0m 11 13 1.0`\n",
      "\u001b[2m\u001b[36m(pid=23824)\u001b[0m 11 14 1.0`\n",
      "\u001b[2m\u001b[36m(pid=23824)\u001b[0m 11 15 0.241667`\n",
      "\u001b[2m\u001b[36m(pid=23824)\u001b[0m 12 6 1.0`\n",
      "\u001b[2m\u001b[36m(pid=23824)\u001b[0m 12 8 1.0`\n",
      "\u001b[2m\u001b[36m(pid=23824)\u001b[0m 12 14 0.8334`\n",
      "\u001b[2m\u001b[36m(pid=23824)\u001b[0m 13 7 1.0`\n",
      "\u001b[2m\u001b[36m(pid=23824)\u001b[0m 13 9 1.0`\n",
      "\u001b[2m\u001b[36m(pid=23824)\u001b[0m 13 14 0.8334`\n",
      "\u001b[2m\u001b[36m(pid=23824)\u001b[0m 0 12 1.0`\n",
      "\u001b[2m\u001b[36m(pid=23824)\u001b[0m 1 13 1.0`\n",
      "\u001b[2m\u001b[36m(pid=23824)\u001b[0m 4 0 1.0`\n",
      "\u001b[2m\u001b[36m(pid=23824)\u001b[0m 4 2 0.0667`\n",
      "\u001b[2m\u001b[36m(pid=23824)\u001b[0m 4 4 0.0667`\n",
      "\u001b[2m\u001b[36m(pid=23824)\u001b[0m 4 5 0.0667`\n",
      "\u001b[2m\u001b[36m(pid=23824)\u001b[0m 5 1 1.0`\n",
      "\u001b[2m\u001b[36m(pid=23824)\u001b[0m 5 3 0.0667`\n",
      "\u001b[2m\u001b[36m(pid=23824)\u001b[0m 5 4 0.0667`\n",
      "\u001b[2m\u001b[36m(pid=23824)\u001b[0m 5 5 0.0667`\n",
      "\u001b[2m\u001b[36m(pid=23824)\u001b[0m 6 0 1.0`\n",
      "\u001b[2m\u001b[36m(pid=23824)\u001b[0m 6 6 0.45`\n",
      "\u001b[2m\u001b[36m(pid=23824)\u001b[0m 6 8 0.45`\n",
      "\u001b[2m\u001b[36m(pid=23824)\u001b[0m 7 1 1.0`\n",
      "\u001b[2m\u001b[36m(pid=23824)\u001b[0m 7 7 0.45`\n",
      "\u001b[2m\u001b[36m(pid=23824)\u001b[0m 7 9 0.45`\n",
      "\u001b[2m\u001b[36m(pid=23824)\u001b[0m 8 4 1.0`\n",
      "\u001b[2m\u001b[36m(pid=23824)\u001b[0m 8 6 0.5`\n",
      "\u001b[2m\u001b[36m(pid=23824)\u001b[0m 8 8 0.45`\n",
      "\u001b[2m\u001b[36m(pid=23824)\u001b[0m 9 5 1.0`\n",
      "\u001b[2m\u001b[36m(pid=23824)\u001b[0m 9 7 0.5`\n",
      "\u001b[2m\u001b[36m(pid=23824)\u001b[0m 9 9 0.45`\n",
      "\u001b[2m\u001b[36m(pid=23824)\u001b[0m 14 6 1.0`\n",
      "\u001b[2m\u001b[36m(pid=23824)\u001b[0m 14 7 1.0`\n",
      "\u001b[2m\u001b[36m(pid=23824)\u001b[0m 14 8 1.0`\n",
      "\u001b[2m\u001b[36m(pid=23824)\u001b[0m 14 9 1.0`\n",
      "\u001b[2m\u001b[36m(pid=23824)\u001b[0m 14 14 1.0`\n",
      "\u001b[2m\u001b[36m(pid=23824)\u001b[0m 15 10 1.0`\n",
      "\u001b[2m\u001b[36m(pid=23824)\u001b[0m 15 11 1.0`\n",
      "\u001b[2m\u001b[36m(pid=23824)\u001b[0m 15 15 1.0`\n",
      "\u001b[2m\u001b[36m(pid=23824)\u001b[0m 2 0 1.0`\n",
      "\u001b[2m\u001b[36m(pid=23824)\u001b[0m 2 1 1.0`\n",
      "\u001b[2m\u001b[36m(pid=23824)\u001b[0m 2 4 0.161668`\n",
      "\u001b[2m\u001b[36m(pid=23824)\u001b[0m 3 0 1.0`\n",
      "\u001b[2m\u001b[36m(pid=23824)\u001b[0m 3 1 1.0`\n",
      "\u001b[2m\u001b[36m(pid=23824)\u001b[0m 3 5 0.161668`\n",
      "\u001b[2m\u001b[36m(pid=23824)\u001b[0m 10 6 1.0`\n",
      "\u001b[2m\u001b[36m(pid=23824)\u001b[0m 10 8 1.0`\n",
      "\u001b[2m\u001b[36m(pid=23824)\u001b[0m 10 10 0.4335`\n",
      "\u001b[2m\u001b[36m(pid=23824)\u001b[0m 10 11 0.4335`\n",
      "\u001b[2m\u001b[36m(pid=23824)\u001b[0m 10 12 1.0`\n",
      "\u001b[2m\u001b[36m(pid=23824)\u001b[0m 10 13 1.0`\n",
      "\u001b[2m\u001b[36m(pid=23824)\u001b[0m 10 15 0.241667`\n",
      "\u001b[2m\u001b[36m(pid=23824)\u001b[0m 11 7 1.0`\n",
      "\u001b[2m\u001b[36m(pid=23824)\u001b[0m 11 9 1.0`\n",
      "\u001b[2m\u001b[36m(pid=23824)\u001b[0m 11 10 0.4335`\n",
      "\u001b[2m\u001b[36m(pid=23824)\u001b[0m 11 11 0.4335`\n",
      "\u001b[2m\u001b[36m(pid=23824)\u001b[0m 11 12 1.0`\n",
      "\u001b[2m\u001b[36m(pid=23824)\u001b[0m 11 13 1.0`\n",
      "\u001b[2m\u001b[36m(pid=23824)\u001b[0m 11 15 0.241667`\n",
      "\u001b[2m\u001b[36m(pid=23824)\u001b[0m 12 10 0.8334`\n",
      "\u001b[2m\u001b[36m(pid=23824)\u001b[0m 12 11 0.8334`\n",
      "\u001b[2m\u001b[36m(pid=23824)\u001b[0m 12 15 0.8334`\n",
      "\u001b[2m\u001b[36m(pid=23824)\u001b[0m 13 10 0.8334`\n",
      "\u001b[2m\u001b[36m(pid=23824)\u001b[0m 13 11 0.8334`\n",
      "\u001b[2m\u001b[36m(pid=23824)\u001b[0m 13 15 0.8334`\n"
     ]
    }
   ],
   "source": [
    "#See init_params.py / generateepochs.py / popconstruct.py / qvalues.py\n",
    "#to know the parameters contained in each of the following variables \n",
    "environment = {\n",
    "    'params': None, #neuron parameters (init_params.py)\n",
    "    'pops': None,   #population parameters (init_params.py)\n",
    "    'receps' : None, #receptor parameters (init_params.py)\n",
    "    'base' : None, #baseline stimulation parameters (init_params.py)\n",
    "    'dpmns' : None, #dopamine related parameters (init_params.py)\n",
    "    'd1' : None, #D1-MSNs population related parameters (init_params.py)\n",
    "    'd2' : None, #D2-MSNs population related parameters (init_params.py)\n",
    "    'channels' : None, #action channels related parameters (init_params.py)\n",
    "    'actionchannels' : pd.DataFrame([[1],[2]], columns=['action']), #labels for the actions (init_params.py)\n",
    "    'newpathways' : None, #connectivity parameters (popconstruct.py)\n",
    "    'Q_support_params': None, #initialization of Q-values update (qvalues.py) \n",
    "    'Q_df':None, #initialized Q-values df (qvalues.py)  \n",
    "    'n_trials': 5, #number of trials (generateepochs.py)\n",
    "    'volatility': 2, #frequency of changepoints (generateepochs.py)\n",
    "    'conflict': 0.7, #probability of the preferred choice (generateepochs.py)\n",
    "    'reward_mu': 1, #mean for the magnitude of the reward (generateepochs.py)\n",
    "    'reward_std': 0.1, #std for the magnitude of the reward (generateepochs.py)\n",
    "}\n",
    "results = cbgt.ExecutionManager(cores=7).run(pl,environment)"
   ]
  },
  {
   "cell_type": "code",
   "execution_count": 19,
   "metadata": {},
   "outputs": [
    {
     "data": {
      "text/html": [
       "<div>\n",
       "<style scoped>\n",
       "    .dataframe tbody tr th:only-of-type {\n",
       "        vertical-align: middle;\n",
       "    }\n",
       "\n",
       "    .dataframe tbody tr th {\n",
       "        vertical-align: top;\n",
       "    }\n",
       "\n",
       "    .dataframe thead th {\n",
       "        text-align: right;\n",
       "    }\n",
       "</style>\n",
       "<table border=\"1\" class=\"dataframe\">\n",
       "  <thead>\n",
       "    <tr style=\"text-align: right;\">\n",
       "      <th></th>\n",
       "      <th>1</th>\n",
       "      <th>2</th>\n",
       "    </tr>\n",
       "  </thead>\n",
       "  <tbody>\n",
       "    <tr>\n",
       "      <th>0</th>\n",
       "      <td>0.500000</td>\n",
       "      <td>0.500000</td>\n",
       "    </tr>\n",
       "    <tr>\n",
       "      <th>0</th>\n",
       "      <td>0.644218</td>\n",
       "      <td>0.500000</td>\n",
       "    </tr>\n",
       "    <tr>\n",
       "      <th>0</th>\n",
       "      <td>0.644218</td>\n",
       "      <td>0.275000</td>\n",
       "    </tr>\n",
       "    <tr>\n",
       "      <th>0</th>\n",
       "      <td>0.644218</td>\n",
       "      <td>0.151250</td>\n",
       "    </tr>\n",
       "    <tr>\n",
       "      <th>0</th>\n",
       "      <td>0.644218</td>\n",
       "      <td>0.579087</td>\n",
       "    </tr>\n",
       "    <tr>\n",
       "      <th>0</th>\n",
       "      <td>0.644218</td>\n",
       "      <td>0.318498</td>\n",
       "    </tr>\n",
       "  </tbody>\n",
       "</table>\n",
       "</div>"
      ],
      "text/plain": [
       "          1         2\n",
       "0  0.500000  0.500000\n",
       "0  0.644218  0.500000\n",
       "0  0.644218  0.275000\n",
       "0  0.644218  0.151250\n",
       "0  0.644218  0.579087\n",
       "0  0.644218  0.318498"
      ]
     },
     "execution_count": 19,
     "metadata": {},
     "output_type": "execute_result"
    },
    {
     "name": "stderr",
     "output_type": "stream",
     "text": [
      "2021-08-26 01:52:51,220\tERROR import_thread.py:88 -- ImportThread: Error while reading from socket: (10054, 'An existing connection was forcibly closed by the remote host', None, 10054, None)\n",
      "2021-08-26 01:52:51,235\tERROR worker.py:468 -- print_logs: Error while reading from socket: (10054, 'An existing connection was forcibly closed by the remote host', None, 10054, None)\n",
      "2021-08-26 01:52:51,236\tERROR worker.py:1191 -- listen_error_messages_raylet: Error while reading from socket: (10054, 'An existing connection was forcibly closed by the remote host', None, 10054, None)\n"
     ]
    }
   ],
   "source": [
    "results['Q_df']"
   ]
  },
  {
   "cell_type": "code",
   "execution_count": null,
   "metadata": {},
   "outputs": [],
   "source": []
  },
  {
   "cell_type": "code",
   "execution_count": null,
   "metadata": {},
   "outputs": [],
   "source": []
  },
  {
   "cell_type": "code",
   "execution_count": null,
   "metadata": {},
   "outputs": [],
   "source": []
  },
  {
   "cell_type": "code",
   "execution_count": null,
   "metadata": {},
   "outputs": [],
   "source": []
  },
  {
   "cell_type": "code",
   "execution_count": null,
   "metadata": {},
   "outputs": [],
   "source": [
    "dev = cbgt.Pipeline()"
   ]
  },
  {
   "cell_type": "code",
   "execution_count": null,
   "metadata": {},
   "outputs": [],
   "source": [
    "dev.add(codeblock_agent_phase0)"
   ]
  },
  {
   "cell_type": "code",
   "execution_count": null,
   "metadata": {},
   "outputs": [],
   "source": [
    "output = cbgt.ExecutionManager(cores=7).run(dev,results) "
   ]
  },
  {
   "cell_type": "code",
   "execution_count": null,
   "metadata": {},
   "outputs": [],
   "source": []
  }
 ],
 "metadata": {
  "kernelspec": {
   "display_name": "Python 3",
   "language": "python",
   "name": "python3"
  },
  "language_info": {
   "codemirror_mode": {
    "name": "ipython",
    "version": 3
   },
   "file_extension": ".py",
   "mimetype": "text/x-python",
   "name": "python",
   "nbconvert_exporter": "python",
   "pygments_lexer": "ipython3",
   "version": "3.8.11"
  }
 },
 "nbformat": 4,
 "nbformat_minor": 4
}
