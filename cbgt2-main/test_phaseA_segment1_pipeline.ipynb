{
 "cells": [
  {
   "cell_type": "code",
   "execution_count": 1,
   "metadata": {},
   "outputs": [],
   "source": [
    "#MAC USERS: \n",
    "#Before running ipynb - command line:\n",
    "#ray stop\n",
    "#ray start --head --port=6379 --redis-password=\"cbgt2\"\n",
    "#ray start --address='10.162.14.77:6379' --redis-password='cbgt2'\n",
    "%load_ext autoreload\n",
    "%autoreload 2\n",
    "%reload_ext autoreload \n",
    "#if it doesn't work, shut down the ray server and start it again"
   ]
  },
  {
   "cell_type": "code",
   "execution_count": 2,
   "metadata": {},
   "outputs": [],
   "source": [
    "!autopep8 --in-place --aggressive --aggressive init_params.py\n",
    "!autopep8 --in-place --aggressive --aggressive popconstruct_copy.py"
   ]
  },
  {
   "cell_type": "code",
   "execution_count": 3,
   "metadata": {},
   "outputs": [
    {
     "name": "stderr",
     "output_type": "stream",
     "text": [
      "2021-06-30 15:01:42,055\tINFO worker.py:726 -- Connecting to existing Ray cluster at address: 10.162.14.77:6379\n"
     ]
    }
   ],
   "source": [
    "import cbgt as cbgt\n",
    "from frontendhelpers import * \n",
    "from tracetype import *\n",
    "import init_params as par \n",
    "import popconstruct_copy as popconstruct"
   ]
  },
  {
   "cell_type": "code",
   "execution_count": 4,
   "metadata": {},
   "outputs": [],
   "source": [
    "pl = cbgt.Pipeline()"
   ]
  },
  {
   "cell_type": "code",
   "execution_count": 5,
   "metadata": {},
   "outputs": [],
   "source": [
    "#DEFAULTS - init_params.py \n",
    "\n",
    "def codeblock_celldefaults(self):\n",
    "    self.celldefaults = par.helper_celldefaults() \n",
    "    \n",
    "def codeblock_popspecific(self):\n",
    "    self.popspecific = par.helper_popspecific() \n",
    "    \n",
    "def codeblock_receptordefaults(self):\n",
    "    self.receptordefaults = par.helper_receptordefaults()\n",
    "    \n",
    "def codeblock_basestim(self):\n",
    "    self.basestim = par.helper_basestim()\n",
    "    \n",
    "def codeblock_dpmndefaults(self):\n",
    "    self.dpmndefaults = par.helper_dpmndefaults()\n",
    "    \n",
    "def codeblock_d1defaults(self):\n",
    "    self.d1defaults = par.helper_d1defaults()\n",
    "    \n",
    "def codeblock_d2defaults(self):\n",
    "    self.d2defaults = par.helper_d2defaults()\n",
    "    \n",
    "def codeblock_actionchannels(self):\n",
    "    self.actionchannels = par.helper_actionchannels()\n",
    "    \n",
    "#MODIFIERS - init_params.py \n",
    "\n",
    "def codeblock_modifycelldefaults(self):\n",
    "    self.celldefaults_modified = par.modifier_celldefaults(self.celldefaults, self.params)\n",
    "    \n",
    "def codeblock_modifypopspecific(self):\n",
    "    self.popspecific_modified = par.modifier_popspecific(self.popspecific, self.pops)\n",
    "    \n",
    "def codeblock_modifyreceptordefaults(self):\n",
    "    self.receptordefaults_modified = par.modifier_receptordefaults(self.receptordefaults, self.receps)\n",
    "\n",
    "def codeblock_modifybasestim(self):\n",
    "    self.basestim_modified = par.modifier_basestim(self.basestim, self.base)\n",
    "    \n",
    "def codeblock_modifydpmndefaults(self):\n",
    "    self.dpmndefaults_modified = par.modifier_dpmndefaults(self.dpmndefaults, self.dpmns)\n",
    "    \n",
    "def codeblock_modifyd1defaults(self):\n",
    "    self.d1defaults_modified = par.modifier_d1defaults(self.d1defaults, self.d1)\n",
    "    \n",
    "def codeblock_modifyd2defaults(self):\n",
    "    self.d2defaults_modified = par.modifier_d2defaults(self.d2defaults, self.d2)\n",
    "\n",
    "def codeblock_modifyactionchannels(self): \n",
    "    self.actionchannels_modified = par.modifier_actionchannels(self.actionchannels, self.channels)\n",
    "    \n",
    "#POPDATA + PATHWAYS - popconstruct_copy.py\n",
    "\n",
    "def codeblock_popconstruct(self):\n",
    "    self.popdata = popconstruct.helper_popconstruct()\n",
    "    \n",
    "def codeblock_poppathways(self): \n",
    "    self.pathways = popconstruct.helper_poppathways(self.popdata, self.newpathways) \n",
    "\n",
    "def codeblock_connAMPA(self): \n",
    "    self.connectivity_AMPA, self.meaneff_AMPA = popconstruct.helper_connectivityAMPA(self.popdata, self.pathways)\n",
    "    \n",
    "def codeblock_connGABA(self): \n",
    "    self.connectivity_GABA, self.meaneff_GABA = popconstruct.helper_connectivityGABA(self.popdata, self.pathways) \n",
    "\n",
    "def codeblock_connNMDA(self): \n",
    "    self.connectivity_NMDA, self.meaneff_NMDA = popconstruct.helper_connectivityNMDA(self.popdata, self.pathways)    "
   ]
  },
  {
   "cell_type": "code",
   "execution_count": 6,
   "metadata": {},
   "outputs": [
    {
     "data": {
      "text/plain": [
       "<backend.Pipeline at 0x7ff208052670>"
      ]
     },
     "execution_count": 6,
     "metadata": {},
     "output_type": "execute_result"
    }
   ],
   "source": [
    "pl.add(codeblock_celldefaults)\n",
    "pl.add(codeblock_modifycelldefaults)\n",
    "pl.add(codeblock_popspecific)\n",
    "pl.add(codeblock_modifypopspecific)\n",
    "pl.add(codeblock_receptordefaults)\n",
    "pl.add(codeblock_modifyreceptordefaults)\n",
    "pl.add(codeblock_basestim)\n",
    "pl.add(codeblock_modifybasestim)\n",
    "pl.add(codeblock_dpmndefaults)\n",
    "pl.add(codeblock_modifydpmndefaults)\n",
    "pl.add(codeblock_d1defaults)\n",
    "pl.add(codeblock_modifyd1defaults)\n",
    "pl.add(codeblock_d2defaults)\n",
    "pl.add(codeblock_modifyd2defaults)\n",
    "pl.add(codeblock_actionchannels)\n",
    "pl.add(codeblock_modifyactionchannels)\n",
    "pl.add(codeblock_popconstruct)\n",
    "pl.add(codeblock_poppathways)\n",
    "pl.add(codeblock_connAMPA)\n",
    "pl.add(codeblock_connGABA)\n",
    "pl.add(codeblock_connNMDA)"
   ]
  },
  {
   "cell_type": "code",
   "execution_count": 7,
   "metadata": {},
   "outputs": [
    {
     "data": {
      "text/plain": [
       "[<backend.CodeTaskFunctionModule at 0x7ff1f1f14f40>,\n",
       " <backend.CodeTaskFunctionModule at 0x7ff1f1f14b50>,\n",
       " <backend.CodeTaskFunctionModule at 0x7ff1f1f14f10>,\n",
       " <backend.CodeTaskFunctionModule at 0x7ff1f1f149a0>,\n",
       " <backend.CodeTaskFunctionModule at 0x7ff1f1f14a00>,\n",
       " <backend.CodeTaskFunctionModule at 0x7ff1f1ea9130>,\n",
       " <backend.CodeTaskFunctionModule at 0x7ff1f1ea9250>,\n",
       " <backend.CodeTaskFunctionModule at 0x7ff1f1ea9280>,\n",
       " <backend.CodeTaskFunctionModule at 0x7ff1f1ea9220>,\n",
       " <backend.CodeTaskFunctionModule at 0x7ff1f1ea9160>,\n",
       " <backend.CodeTaskFunctionModule at 0x7ff1f1ea9070>,\n",
       " <backend.CodeTaskFunctionModule at 0x7ff1f1ea90d0>,\n",
       " <backend.CodeTaskFunctionModule at 0x7ff1f1ea92b0>,\n",
       " <backend.CodeTaskFunctionModule at 0x7ff1f1ea9310>,\n",
       " <backend.CodeTaskFunctionModule at 0x7ff1f1ea92e0>,\n",
       " <backend.CodeTaskFunctionModule at 0x7ff1f1ea9b50>,\n",
       " <backend.CodeTaskFunctionModule at 0x7ff1f1ea93d0>,\n",
       " <backend.CodeTaskFunctionModule at 0x7ff1f1ea9c10>,\n",
       " <backend.CodeTaskFunctionModule at 0x7ff1f1ea9c40>,\n",
       " <backend.CodeTaskFunctionModule at 0x7ff1f1ea9cd0>,\n",
       " <backend.CodeTaskFunctionModule at 0x7ff1f1ea9d30>]"
      ]
     },
     "execution_count": 7,
     "metadata": {},
     "output_type": "execute_result"
    }
   ],
   "source": [
    "pl.modulelist"
   ]
  },
  {
   "cell_type": "code",
   "execution_count": 8,
   "metadata": {},
   "outputs": [],
   "source": [
    "environment = {\n",
    "    'params': {'N':1, 'C':40},\n",
    "    'pops' : {'FSI': {'Taum':60}}, \n",
    "    'receps' : {'Tau_AMPA': 100, 'Tau_GABA' : 100}, \n",
    "    'base' : {'FSI': {'FreqExt_AMPA': 100}}, \n",
    "    'dpmns' : {'dpmn_wmax': 400, 'dpmn_tauDOP' : 100},\n",
    "    'd1': {'dpmn_type' : 3, 'dpmn_c' : 50},\n",
    "    'd2' : {'dpmn_type' : 3, 'dpmn_c' : 50}, \n",
    "    'channels' : {'action' : [3,3]},\n",
    "    'newpathways' : pd.DataFrame([['LIP', 'D1STR', 'AMPA', 'syn', 700, 0.027]], columns=['src', 'dest', 'receptor', 'type', 'con', 'eff'])\n",
    "}\n",
    "results = cbgt.ExecutionManager(cores=7).run(pl,environment) "
   ]
  },
  {
   "cell_type": "code",
   "execution_count": 9,
   "metadata": {},
   "outputs": [
    {
     "data": {
      "text/plain": [
       "dict_keys(['params', 'pops', 'receps', 'base', 'dpmns', 'd1', 'd2', 'channels', 'newpathways', 'celldefaults', 'celldefaults_modified', 'popspecific', 'popspecific_modified', 'receptordefaults', 'receptordefaults_modified', 'basestim', 'basestim_modified', 'dpmndefaults', 'dpmndefaults_modified', 'd1defaults', 'd1defaults_modified', 'd2defaults', 'd2defaults_modified', 'actionchannels', 'actionchannels_modified', 'popdata', 'pathways', 'connectivity_AMPA', 'meaneff_AMPA', 'connectivity_GABA', 'meaneff_GABA', 'connectivity_NMDA', 'meaneff_NMDA'])"
      ]
     },
     "execution_count": 9,
     "metadata": {},
     "output_type": "execute_result"
    }
   ],
   "source": [
    "results.keys()"
   ]
  },
  {
   "cell_type": "code",
   "execution_count": 22,
   "metadata": {},
   "outputs": [
    {
     "data": {
      "text/plain": [
       "{'FSI': {'FreqExt_AMPA': 3.6, 'MeanExtEff_AMPA': 1.55, 'MeanExtCon_AMPA': 800},\n",
       " 'LIPI': {'FreqExt_AMPA': 1.05,\n",
       "  'MeanExtEff_AMPA': 1.2,\n",
       "  'MeanExtCon_AMPA': 640},\n",
       " 'GPi': {'FreqExt_AMPA': 0.8, 'MeanExtEff_AMPA': 5.9, 'MeanExtCon_AMPA': 800},\n",
       " 'STNE': {'FreqExt_AMPA': 4.45,\n",
       "  'MeanExtEff_AMPA': 1.65,\n",
       "  'MeanExtCon_AMPA': 800},\n",
       " 'GPeP': {'FreqExt_AMPA': 4,\n",
       "  'MeanExtEff_AMPA': 2,\n",
       "  'MeanExtCon_AMPA': 800,\n",
       "  'FreqExt_GABA': 2,\n",
       "  'MeanExtEff_GABA': 2,\n",
       "  'MeanExtCon_GABA': 2000},\n",
       " 'D1STR': {'FreqExt_AMPA': 1.3, 'MeanExtEff_AMPA': 4, 'MeanExtCon_AMPA': 800},\n",
       " 'D2STR': {'FreqExt_AMPA': 1.3, 'MeanExtEff_AMPA': 4, 'MeanExtCon_AMPA': 800},\n",
       " 'LIP': {'FreqExt_AMPA': 2.2, 'MeanExtEff_AMPA': 2, 'MeanExtCon_AMPA': 800},\n",
       " 'Th': {'FreqExt_AMPA': 2.2, 'MeanExtEff_AMPA': 2.5, 'MeanExtCon_AMPA': 800}}"
      ]
     },
     "execution_count": 22,
     "metadata": {},
     "output_type": "execute_result"
    }
   ],
   "source": [
    "results['basestim']"
   ]
  },
  {
   "cell_type": "code",
   "execution_count": 24,
   "metadata": {},
   "outputs": [
    {
     "data": {
      "text/plain": [
       "{'FSI': {'FreqExt_AMPA': 100, 'MeanExtEff_AMPA': 1.55, 'MeanExtCon_AMPA': 800},\n",
       " 'LIPI': {'FreqExt_AMPA': 1.05,\n",
       "  'MeanExtEff_AMPA': 1.2,\n",
       "  'MeanExtCon_AMPA': 640},\n",
       " 'GPi': {'FreqExt_AMPA': 0.8, 'MeanExtEff_AMPA': 5.9, 'MeanExtCon_AMPA': 800},\n",
       " 'STNE': {'FreqExt_AMPA': 4.45,\n",
       "  'MeanExtEff_AMPA': 1.65,\n",
       "  'MeanExtCon_AMPA': 800},\n",
       " 'GPeP': {'FreqExt_AMPA': 4,\n",
       "  'MeanExtEff_AMPA': 2,\n",
       "  'MeanExtCon_AMPA': 800,\n",
       "  'FreqExt_GABA': 2,\n",
       "  'MeanExtEff_GABA': 2,\n",
       "  'MeanExtCon_GABA': 2000},\n",
       " 'D1STR': {'FreqExt_AMPA': 1.3, 'MeanExtEff_AMPA': 4, 'MeanExtCon_AMPA': 800},\n",
       " 'D2STR': {'FreqExt_AMPA': 1.3, 'MeanExtEff_AMPA': 4, 'MeanExtCon_AMPA': 800},\n",
       " 'LIP': {'FreqExt_AMPA': 2.2, 'MeanExtEff_AMPA': 2, 'MeanExtCon_AMPA': 800},\n",
       " 'Th': {'FreqExt_AMPA': 2.2, 'MeanExtEff_AMPA': 2.5, 'MeanExtCon_AMPA': 800}}"
      ]
     },
     "execution_count": 24,
     "metadata": {},
     "output_type": "execute_result"
    }
   ],
   "source": [
    "results['basestim_modified']"
   ]
  },
  {
   "cell_type": "code",
   "execution_count": null,
   "metadata": {},
   "outputs": [],
   "source": []
  },
  {
   "cell_type": "code",
   "execution_count": null,
   "metadata": {},
   "outputs": [],
   "source": []
  }
 ],
 "metadata": {
  "kernelspec": {
   "display_name": "Python 3",
   "language": "python",
   "name": "python3"
  },
  "language_info": {
   "codemirror_mode": {
    "name": "ipython",
    "version": 3
   },
   "file_extension": ".py",
   "mimetype": "text/x-python",
   "name": "python",
   "nbconvert_exporter": "python",
   "pygments_lexer": "ipython3",
   "version": "3.8.5"
  }
 },
 "nbformat": 4,
 "nbformat_minor": 4
}
